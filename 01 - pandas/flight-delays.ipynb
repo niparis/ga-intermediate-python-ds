{
 "cells": [
  {
   "cell_type": "markdown",
   "metadata": {},
   "source": [
    "# Flight delays\n",
    "\n",
    "https://www.kaggle.com/usdot/flight-delays"
   ]
  },
  {
   "cell_type": "markdown",
   "metadata": {},
   "source": [
    "### Description of data \n",
    "\n",
    "- YEAR, MONTH, DAY, DAY_OF_WEEK: dates of the flight \n",
    "- AIRLINE: An identification number assigned by US DOT to identify a unique airline \n",
    "- ORIGIN_AIRPORT and DESTINATION_AIRPORT: code attributed by IATA to identify the airports \n",
    "- SCHEDULED_DEPARTURE and SCHEDULED_ARRIVAL : scheduled times of take-off and landing \n",
    "- DEPARTURE_TIME and ARRIVAL_TIME: real times at which take-off and landing took place \n",
    "- DEPARTURE_DELAY and ARRIVAL_DELAY: difference (in minutes) between planned and real times \n",
    "- DISTANCE: distance (in miles) "
   ]
  },
  {
   "cell_type": "markdown",
   "metadata": {},
   "source": [
    "### Exercises\n",
    "\n",
    "1. Create a date from : YEAR, MONTH, DAY to a datetime.date object\n",
    "2. Convert SCHEDULED_DEPARTURE to a datetime.time object\n",
    "3. Merge the airlines and the flights dataset\n",
    "4. Find for each airline, tbe min, max, mean and count of DEPARTURE_DELAY \n",
    "5. How many airports ? How many airports are visited by each airline ?\n",
    "6. What is the average delay by aiport ?\n",
    "7. Average Delay by time of departure ?\n"
   ]
  },
  {
   "cell_type": "code",
   "execution_count": null,
   "metadata": {},
   "outputs": [],
   "source": []
  }
 ],
 "metadata": {
  "kernelspec": {
   "display_name": "Python 3",
   "language": "python",
   "name": "python3"
  },
  "language_info": {
   "codemirror_mode": {
    "name": "ipython",
    "version": 3
   },
   "file_extension": ".py",
   "mimetype": "text/x-python",
   "name": "python",
   "nbconvert_exporter": "python",
   "pygments_lexer": "ipython3",
   "version": "3.7.3"
  }
 },
 "nbformat": 4,
 "nbformat_minor": 4
}
