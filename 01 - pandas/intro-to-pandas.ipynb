{
 "cells": [
  {
   "cell_type": "markdown",
   "metadata": {
    "slideshow": {
     "slide_type": "slide"
    }
   },
   "source": [
    "# Introduction to Pandas (reddit)\n"
   ]
  },
  {
   "cell_type": "markdown",
   "metadata": {
    "slideshow": {
     "slide_type": "subslide"
    }
   },
   "source": [
    "Full dataset at:\n",
    "\n",
    "https://www.kaggle.com/colemaclean/subreddit-interactions\n",
    "\n",
    "### Note about the dataset: each line represents ONE COMMENT"
   ]
  },
  {
   "cell_type": "markdown",
   "metadata": {
    "slideshow": {
     "slide_type": "slide"
    }
   },
   "source": [
    "## Why Pandas\n",
    "\n",
    "1. Very familiar interface / data model (Table / Excel)\n",
    "2. Query data very interactively (once the data is loaded in your notebook, instant answer)\n",
    "3. Complete freedom in creating custom code\n",
    "\n",
    "GOOD TO KNOW\n",
    "- Pandas is a massive library. Even after this class, there'll be a lot of things you won't know from pandas. Use the doc !\n"
   ]
  },
  {
   "cell_type": "code",
   "execution_count": 2,
   "metadata": {},
   "outputs": [],
   "source": [
    "import pandas as pd\n",
    "import numpy as np\n",
    "import matplotlib.pyplot as plt\n",
    "import datetime as dt\n",
    "%matplotlib inline\n",
    "\n",
    "df = pd.read_csv('https://raw.githubusercontent.com/niparis/ga-intermediate-python-ds/master/datasets/reddit_100k.csv')"
   ]
  },
  {
   "cell_type": "markdown",
   "metadata": {},
   "source": [
    "### Having a look at the data\n",
    "\n",
    "head is a `method` of DataFrame objects. It is called by using the brackets.\n",
    "\n",
    "head is equivalent to the SQL expression \"LIMIT 5\""
   ]
  },
  {
   "cell_type": "code",
   "execution_count": 5,
   "metadata": {},
   "outputs": [
    {
     "data": {
      "text/html": [
       "<div>\n",
       "<style scoped>\n",
       "    .dataframe tbody tr th:only-of-type {\n",
       "        vertical-align: middle;\n",
       "    }\n",
       "\n",
       "    .dataframe tbody tr th {\n",
       "        vertical-align: top;\n",
       "    }\n",
       "\n",
       "    .dataframe thead th {\n",
       "        text-align: right;\n",
       "    }\n",
       "</style>\n",
       "<table border=\"1\" class=\"dataframe\">\n",
       "  <thead>\n",
       "    <tr style=\"text-align: right;\">\n",
       "      <th></th>\n",
       "      <th>username</th>\n",
       "      <th>subreddit</th>\n",
       "      <th>utc</th>\n",
       "    </tr>\n",
       "  </thead>\n",
       "  <tbody>\n",
       "    <tr>\n",
       "      <th>0</th>\n",
       "      <td>kabanossi</td>\n",
       "      <td>photoshopbattles</td>\n",
       "      <td>1.482748e+09</td>\n",
       "    </tr>\n",
       "    <tr>\n",
       "      <th>1</th>\n",
       "      <td>kabanossi</td>\n",
       "      <td>GetMotivated</td>\n",
       "      <td>1.482748e+09</td>\n",
       "    </tr>\n",
       "    <tr>\n",
       "      <th>2</th>\n",
       "      <td>kabanossi</td>\n",
       "      <td>vmware</td>\n",
       "      <td>1.482748e+09</td>\n",
       "    </tr>\n",
       "    <tr>\n",
       "      <th>3</th>\n",
       "      <td>kabanossi</td>\n",
       "      <td>carporn</td>\n",
       "      <td>1.482748e+09</td>\n",
       "    </tr>\n",
       "    <tr>\n",
       "      <th>4</th>\n",
       "      <td>kabanossi</td>\n",
       "      <td>DIY</td>\n",
       "      <td>1.482747e+09</td>\n",
       "    </tr>\n",
       "  </tbody>\n",
       "</table>\n",
       "</div>"
      ],
      "text/plain": [
       "    username         subreddit           utc\n",
       "0  kabanossi  photoshopbattles  1.482748e+09\n",
       "1  kabanossi      GetMotivated  1.482748e+09\n",
       "2  kabanossi            vmware  1.482748e+09\n",
       "3  kabanossi           carporn  1.482748e+09\n",
       "4  kabanossi               DIY  1.482747e+09"
      ]
     },
     "execution_count": 5,
     "metadata": {},
     "output_type": "execute_result"
    }
   ],
   "source": [
    "df.head()"
   ]
  },
  {
   "cell_type": "markdown",
   "metadata": {},
   "source": [
    "We can pass a `parameter` to the `method` head. \n",
    "\n",
    "That's how we can control how many lines of the DataFrame `head` will display"
   ]
  },
  {
   "cell_type": "code",
   "execution_count": 6,
   "metadata": {},
   "outputs": [
    {
     "data": {
      "text/html": [
       "<div>\n",
       "<style scoped>\n",
       "    .dataframe tbody tr th:only-of-type {\n",
       "        vertical-align: middle;\n",
       "    }\n",
       "\n",
       "    .dataframe tbody tr th {\n",
       "        vertical-align: top;\n",
       "    }\n",
       "\n",
       "    .dataframe thead th {\n",
       "        text-align: right;\n",
       "    }\n",
       "</style>\n",
       "<table border=\"1\" class=\"dataframe\">\n",
       "  <thead>\n",
       "    <tr style=\"text-align: right;\">\n",
       "      <th></th>\n",
       "      <th>username</th>\n",
       "      <th>subreddit</th>\n",
       "      <th>utc</th>\n",
       "    </tr>\n",
       "  </thead>\n",
       "  <tbody>\n",
       "    <tr>\n",
       "      <th>0</th>\n",
       "      <td>kabanossi</td>\n",
       "      <td>photoshopbattles</td>\n",
       "      <td>1.482748e+09</td>\n",
       "    </tr>\n",
       "    <tr>\n",
       "      <th>1</th>\n",
       "      <td>kabanossi</td>\n",
       "      <td>GetMotivated</td>\n",
       "      <td>1.482748e+09</td>\n",
       "    </tr>\n",
       "  </tbody>\n",
       "</table>\n",
       "</div>"
      ],
      "text/plain": [
       "    username         subreddit           utc\n",
       "0  kabanossi  photoshopbattles  1.482748e+09\n",
       "1  kabanossi      GetMotivated  1.482748e+09"
      ]
     },
     "execution_count": 6,
     "metadata": {},
     "output_type": "execute_result"
    }
   ],
   "source": [
    "# example with the parameter 2\n",
    "df.head(2)"
   ]
  },
  {
   "cell_type": "markdown",
   "metadata": {},
   "source": [
    "### Let's start we some simple data cleaning\n",
    "\n",
    "The utc timestamp is a EPOCH timestamp in seconds\n",
    "\n",
    "Fortunately pandas has a built-in function to transform it to a more usable *datetime* object: `pd.to_datetime`"
   ]
  },
  {
   "cell_type": "code",
   "execution_count": 12,
   "metadata": {},
   "outputs": [],
   "source": [
    "# cleaning the utc timestamp: a typical \"data cleaning\" operation\n",
    "# the result from the expression on the right of the = is *assigned* to the left expression\n",
    "# df['utc'] means \"selecting the column utc from the dataframe df\"\n",
    "df['utc'] = pd.to_datetime(df['utc'],unit='s')"
   ]
  },
  {
   "cell_type": "code",
   "execution_count": 14,
   "metadata": {},
   "outputs": [],
   "source": [
    "del df['new_utc']"
   ]
  },
  {
   "cell_type": "code",
   "execution_count": 15,
   "metadata": {},
   "outputs": [
    {
     "data": {
      "text/html": [
       "<div>\n",
       "<style scoped>\n",
       "    .dataframe tbody tr th:only-of-type {\n",
       "        vertical-align: middle;\n",
       "    }\n",
       "\n",
       "    .dataframe tbody tr th {\n",
       "        vertical-align: top;\n",
       "    }\n",
       "\n",
       "    .dataframe thead th {\n",
       "        text-align: right;\n",
       "    }\n",
       "</style>\n",
       "<table border=\"1\" class=\"dataframe\">\n",
       "  <thead>\n",
       "    <tr style=\"text-align: right;\">\n",
       "      <th></th>\n",
       "      <th>username</th>\n",
       "      <th>subreddit</th>\n",
       "      <th>utc</th>\n",
       "    </tr>\n",
       "  </thead>\n",
       "  <tbody>\n",
       "    <tr>\n",
       "      <th>0</th>\n",
       "      <td>kabanossi</td>\n",
       "      <td>photoshopbattles</td>\n",
       "      <td>2016-12-26 10:24:59</td>\n",
       "    </tr>\n",
       "    <tr>\n",
       "      <th>1</th>\n",
       "      <td>kabanossi</td>\n",
       "      <td>GetMotivated</td>\n",
       "      <td>2016-12-26 10:23:14</td>\n",
       "    </tr>\n",
       "    <tr>\n",
       "      <th>2</th>\n",
       "      <td>kabanossi</td>\n",
       "      <td>vmware</td>\n",
       "      <td>2016-12-26 10:21:16</td>\n",
       "    </tr>\n",
       "    <tr>\n",
       "      <th>3</th>\n",
       "      <td>kabanossi</td>\n",
       "      <td>carporn</td>\n",
       "      <td>2016-12-26 10:20:18</td>\n",
       "    </tr>\n",
       "    <tr>\n",
       "      <th>4</th>\n",
       "      <td>kabanossi</td>\n",
       "      <td>DIY</td>\n",
       "      <td>2016-12-26 10:17:59</td>\n",
       "    </tr>\n",
       "  </tbody>\n",
       "</table>\n",
       "</div>"
      ],
      "text/plain": [
       "    username         subreddit                 utc\n",
       "0  kabanossi  photoshopbattles 2016-12-26 10:24:59\n",
       "1  kabanossi      GetMotivated 2016-12-26 10:23:14\n",
       "2  kabanossi            vmware 2016-12-26 10:21:16\n",
       "3  kabanossi           carporn 2016-12-26 10:20:18\n",
       "4  kabanossi               DIY 2016-12-26 10:17:59"
      ]
     },
     "execution_count": 15,
     "metadata": {},
     "output_type": "execute_result"
    }
   ],
   "source": [
    "df.head()"
   ]
  },
  {
   "cell_type": "markdown",
   "metadata": {},
   "source": [
    "### Let's create a new column containing only the date\n",
    "\n",
    "We might need to have access to the date without the time information. \n",
    "\n",
    "It will let us aggregate the reddit data by day, to create for instance a daily timeline.\n",
    "\n",
    "For this, we're going to use the `apply` DataFrame method. This is a very handy function that lets us modify a column in any way we want. To use it, first need to create a function that will be called on each element (or cell) of the column we want to transform.\n",
    "\n",
    "In our case, we want to transform a `datetime` object into a `date` object, so we can write the following function:"
   ]
  },
  {
   "cell_type": "code",
   "execution_count": 31,
   "metadata": {},
   "outputs": [],
   "source": [
    "def transform_to_date(bob: dt.datetime):\n",
    "    # extract the date from a datetime. \n",
    "    # date is a method of the datetime object, that's why it has to be called with `()`\n",
    "    return bob.date()"
   ]
  },
  {
   "cell_type": "code",
   "execution_count": 20,
   "metadata": {},
   "outputs": [],
   "source": [
    "# def transform_to_date_BUG(elem: dt.datetime):\n",
    "#     # extract the date from a datetime. \n",
    "#     # date is a method of the datetime object, that's why it has to be called with `()`\n",
    "#     return elem.date"
   ]
  },
  {
   "cell_type": "code",
   "execution_count": 32,
   "metadata": {},
   "outputs": [],
   "source": [
    "df['date'] = df['utc'].apply(transform_to_date)"
   ]
  },
  {
   "cell_type": "code",
   "execution_count": 34,
   "metadata": {},
   "outputs": [],
   "source": [
    "del df['date_BUG']"
   ]
  },
  {
   "cell_type": "code",
   "execution_count": 30,
   "metadata": {},
   "outputs": [
    {
     "data": {
      "text/plain": [
       "datetime.date(2016, 12, 26)"
      ]
     },
     "execution_count": 30,
     "metadata": {},
     "output_type": "execute_result"
    }
   ],
   "source": [
    "bob.date()"
   ]
  },
  {
   "cell_type": "markdown",
   "metadata": {},
   "source": [
    "Then we can apply the `transform_to_date` function to the utc column, and assign the result to a new column called `date`"
   ]
  },
  {
   "cell_type": "code",
   "execution_count": 7,
   "metadata": {},
   "outputs": [
    {
     "data": {
      "text/html": [
       "<div>\n",
       "<style scoped>\n",
       "    .dataframe tbody tr th:only-of-type {\n",
       "        vertical-align: middle;\n",
       "    }\n",
       "\n",
       "    .dataframe tbody tr th {\n",
       "        vertical-align: top;\n",
       "    }\n",
       "\n",
       "    .dataframe thead th {\n",
       "        text-align: right;\n",
       "    }\n",
       "</style>\n",
       "<table border=\"1\" class=\"dataframe\">\n",
       "  <thead>\n",
       "    <tr style=\"text-align: right;\">\n",
       "      <th></th>\n",
       "      <th>username</th>\n",
       "      <th>subreddit</th>\n",
       "      <th>utc</th>\n",
       "      <th>date</th>\n",
       "    </tr>\n",
       "  </thead>\n",
       "  <tbody>\n",
       "    <tr>\n",
       "      <th>0</th>\n",
       "      <td>kabanossi</td>\n",
       "      <td>photoshopbattles</td>\n",
       "      <td>2016-12-26 10:24:59</td>\n",
       "      <td>2016-12-26</td>\n",
       "    </tr>\n",
       "    <tr>\n",
       "      <th>1</th>\n",
       "      <td>kabanossi</td>\n",
       "      <td>GetMotivated</td>\n",
       "      <td>2016-12-26 10:23:14</td>\n",
       "      <td>2016-12-26</td>\n",
       "    </tr>\n",
       "  </tbody>\n",
       "</table>\n",
       "</div>"
      ],
      "text/plain": [
       "    username         subreddit                 utc        date\n",
       "0  kabanossi  photoshopbattles 2016-12-26 10:24:59  2016-12-26\n",
       "1  kabanossi      GetMotivated 2016-12-26 10:23:14  2016-12-26"
      ]
     },
     "execution_count": 7,
     "metadata": {},
     "output_type": "execute_result"
    }
   ],
   "source": [
    "df['date'] = df['utc'].apply(transform_to_date)\n",
    "df.head(2)"
   ]
  },
  {
   "cell_type": "markdown",
   "metadata": {},
   "source": [
    "Another example: week of year.\n",
    "    \n",
    "We create another function, apply it to the same `utc` column, and assign the result to a new column called `week_of_year`"
   ]
  },
  {
   "cell_type": "code",
   "execution_count": 35,
   "metadata": {},
   "outputs": [],
   "source": [
    "def get_week_of_year(elem: dt.datetime):\n",
    "    # weekofyear is an `attribute` from the pandas timestamp object (which is why it doesnt have to be called with `()`)\n",
    "    return elem.weekofyear\n",
    "\n",
    "df['week_of_year'] = df['utc'].apply(get_week_of_year)"
   ]
  },
  {
   "cell_type": "markdown",
   "metadata": {},
   "source": [
    "## Group By\n",
    "\n",
    "Pandas `groupby` is a powerful to perform aggregations on pandas DataFrames. It works very similarly to the SQL `GROUP BY` clause, with the added benefit of being able to define any custom aggregation function in python.\n",
    "\n",
    "Let's start with a very simple aggregation: finding the number of comments per user.\n",
    "\n",
    "Here's the logic of the groupby:\n",
    "1. The argument of the `groupby` function (here: 'username') will be reduced to unique elements\n",
    "\n",
    "```\n",
    "df.groupby('username')\n",
    "```\n",
    "2. Then we select on which column we want to perform our aggregation. In our case, we want a count of comments, so any column will do:\n",
    "\n",
    "```\n",
    "df.groupby('username')['subreddit']\n",
    "```\n",
    "\n",
    "3. Finally, we select the aggregation method - in our case, a count:\n",
    "\n",
    "```\n",
    "df.groupby('username')['subreddit'].count()\n",
    "```\n",
    "\n",
    "In english, this reads:\n",
    "\n",
    "*For each username, let's count the number of rows.*"
   ]
  },
  {
   "cell_type": "code",
   "execution_count": 38,
   "metadata": {},
   "outputs": [
    {
     "data": {
      "text/plain": [
       "username\n",
       "Spyrothedragon9972    1000\n",
       "PumpTrump             1000\n",
       "SidDriver             1000\n",
       "bruux                 1000\n",
       "Steel_Wool_Sponge     1000\n",
       "SweelFor              1000\n",
       "TalosThoren           1000\n",
       "jackcalx              1000\n",
       "TeslaAddict           1000\n",
       "Tethalamin            1000\n",
       "Name: subreddit, dtype: int64"
      ]
     },
     "execution_count": 38,
     "metadata": {},
     "output_type": "execute_result"
    }
   ],
   "source": [
    "# a typical groupby operation. Here we're adding sort_values and head methods to display the results nicely\n",
    "df.groupby('username')['subreddit'].count().sort_values(ascending=False).head(10)\n"
   ]
  },
  {
   "cell_type": "markdown",
   "metadata": {},
   "source": [
    "#### Unique subreddits by username\n",
    "\n",
    "We can reuse the same syntax, just changing the aggregation method"
   ]
  },
  {
   "cell_type": "code",
   "execution_count": 39,
   "metadata": {},
   "outputs": [
    {
     "data": {
      "text/plain": [
       "username\n",
       "xkcd_transcriber    496\n",
       "Exuberant_Murica    188\n",
       "kabanossi           187\n",
       "Hcfielden           182\n",
       "bigbuddha999        164\n",
       "ZoomJet             154\n",
       "fauxhb              154\n",
       "bob-leblaw          142\n",
       "gm4                 139\n",
       "not_for_porns       127\n",
       "Name: subreddit, dtype: int64"
      ]
     },
     "execution_count": 39,
     "metadata": {},
     "output_type": "execute_result"
    }
   ],
   "source": [
    "# How many unique subreddits per user\n",
    "# in english: For each username, how many unique records can we find in the \"subreddit\" column\n",
    "df.groupby('username')['subreddit'].nunique().sort_values(ascending=False).head(10)\n"
   ]
  },
  {
   "cell_type": "markdown",
   "metadata": {},
   "source": [
    "## Exercise 1\n",
    "\n",
    "1. Extract the hour of day (ie: 10 for a datetime of 2016-12-26 10:24:59) and assign it to a new column (\"hour_of_day\")\n",
    "2. Find the top 10 subreddits with the most users\n",
    "3. Find which hour of the day is one average, generating more comments"
   ]
  },
  {
   "cell_type": "code",
   "execution_count": 48,
   "metadata": {},
   "outputs": [],
   "source": [
    "### Type solution here\n",
    "\n",
    "# 1 \n",
    "s = df['utc'][0]"
   ]
  },
  {
   "cell_type": "code",
   "execution_count": 53,
   "metadata": {},
   "outputs": [],
   "source": [
    "def transform_to_hour(s):\n",
    "    return s.hour\n",
    "\n",
    "df['hour_of_day'] = df['utc'].apply(transform_to_hour)"
   ]
  },
  {
   "cell_type": "code",
   "execution_count": 57,
   "metadata": {},
   "outputs": [
    {
     "data": {
      "text/plain": [
       "subreddit\n",
       "AskReddit         141\n",
       "news              127\n",
       "pics              124\n",
       "funny             122\n",
       "todayilearned     122\n",
       "worldnews         116\n",
       "videos            108\n",
       "gifs              105\n",
       "GetMotivated      100\n",
       "Showerthoughts     99\n",
       "Name: username, dtype: int64"
      ]
     },
     "execution_count": 57,
     "metadata": {},
     "output_type": "execute_result"
    }
   ],
   "source": [
    "\n",
    "df.groupby('subreddit')['username'].nunique().sort_values(ascending=False).head(10)"
   ]
  },
  {
   "cell_type": "code",
   "execution_count": 61,
   "metadata": {},
   "outputs": [
    {
     "data": {
      "text/plain": [
       "hour_of_day\n",
       "15    5855\n",
       "Name: subreddit, dtype: int64"
      ]
     },
     "execution_count": 61,
     "metadata": {},
     "output_type": "execute_result"
    }
   ],
   "source": [
    "df.groupby('hour_of_day')['subreddit'].count().sort_values(ascending=False).head(1)"
   ]
  },
  {
   "cell_type": "code",
   "execution_count": 69,
   "metadata": {},
   "outputs": [
    {
     "data": {
      "text/html": [
       "<div>\n",
       "<style scoped>\n",
       "    .dataframe tbody tr th:only-of-type {\n",
       "        vertical-align: middle;\n",
       "    }\n",
       "\n",
       "    .dataframe tbody tr th {\n",
       "        vertical-align: top;\n",
       "    }\n",
       "\n",
       "    .dataframe thead th {\n",
       "        text-align: right;\n",
       "    }\n",
       "</style>\n",
       "<table border=\"1\" class=\"dataframe\">\n",
       "  <thead>\n",
       "    <tr style=\"text-align: right;\">\n",
       "      <th></th>\n",
       "      <th>subreddit</th>\n",
       "    </tr>\n",
       "    <tr>\n",
       "      <th>hour_of_day</th>\n",
       "      <th></th>\n",
       "    </tr>\n",
       "  </thead>\n",
       "  <tbody>\n",
       "    <tr>\n",
       "      <th>15</th>\n",
       "      <td>791</td>\n",
       "    </tr>\n",
       "  </tbody>\n",
       "</table>\n",
       "</div>"
      ],
      "text/plain": [
       "             subreddit\n",
       "hour_of_day           \n",
       "15                 791"
      ]
     },
     "execution_count": 69,
     "metadata": {},
     "output_type": "execute_result"
    }
   ],
   "source": [
    "(df.groupby('hour_of_day')\n",
    "   .agg({'subreddit': 'nunique'})\n",
    "   .sort_values(by='subreddit', ascending=False)\n",
    "   .head(1)\n",
    ")"
   ]
  },
  {
   "cell_type": "markdown",
   "metadata": {},
   "source": [
    "#### A more powerful syntax\n",
    "\n",
    "pandas practitioners like to use the `.agg` method - it provides several benefits compared to the default syntax:\n",
    "- Perform several aggregations on the same column\n",
    "- Define the name of the results column\n",
    "- Use standard python code rather than specific pandas functions\n"
   ]
  },
  {
   "cell_type": "code",
   "execution_count": 202,
   "metadata": {},
   "outputs": [
    {
     "data": {
      "text/plain": [
       "username\n",
       "-goodguygeorge    106\n",
       "01is               44\n",
       "0mn17h3047         25\n",
       "414D59             17\n",
       "AbulaShabula       33\n",
       "Name: subreddit, dtype: int64"
      ]
     },
     "execution_count": 202,
     "metadata": {},
     "output_type": "execute_result"
    }
   ],
   "source": [
    "# Unique subreddits by username - as seen above\n",
    "v0 = df.groupby('username')['subreddit'].nunique()\n",
    "v0.head()"
   ]
  },
  {
   "cell_type": "markdown",
   "metadata": {},
   "source": [
    "#### The .agg function:\n",
    "\n",
    "Using the `.agg` function: the argument of `.agg` is a _dictionary_ where the *keys* are the columns to aggregate on, \n",
    "and the values are the functions.\n"
   ]
  },
  {
   "cell_type": "code",
   "execution_count": 31,
   "metadata": {},
   "outputs": [
    {
     "data": {
      "text/html": [
       "<div>\n",
       "<style scoped>\n",
       "    .dataframe tbody tr th:only-of-type {\n",
       "        vertical-align: middle;\n",
       "    }\n",
       "\n",
       "    .dataframe tbody tr th {\n",
       "        vertical-align: top;\n",
       "    }\n",
       "\n",
       "    .dataframe thead th {\n",
       "        text-align: right;\n",
       "    }\n",
       "</style>\n",
       "<table border=\"1\" class=\"dataframe\">\n",
       "  <thead>\n",
       "    <tr style=\"text-align: right;\">\n",
       "      <th></th>\n",
       "      <th>subreddit</th>\n",
       "    </tr>\n",
       "    <tr>\n",
       "      <th>username</th>\n",
       "      <th></th>\n",
       "    </tr>\n",
       "  </thead>\n",
       "  <tbody>\n",
       "    <tr>\n",
       "      <th>-goodguygeorge</th>\n",
       "      <td>True</td>\n",
       "    </tr>\n",
       "    <tr>\n",
       "      <th>01is</th>\n",
       "      <td>True</td>\n",
       "    </tr>\n",
       "    <tr>\n",
       "      <th>0mn17h3047</th>\n",
       "      <td>True</td>\n",
       "    </tr>\n",
       "    <tr>\n",
       "      <th>414D59</th>\n",
       "      <td>True</td>\n",
       "    </tr>\n",
       "    <tr>\n",
       "      <th>AbulaShabula</th>\n",
       "      <td>True</td>\n",
       "    </tr>\n",
       "    <tr>\n",
       "      <th>Adjace-esque</th>\n",
       "      <td>True</td>\n",
       "    </tr>\n",
       "    <tr>\n",
       "      <th>Attentive_cactus</th>\n",
       "      <td>True</td>\n",
       "    </tr>\n",
       "    <tr>\n",
       "      <th>BasedOnAir</th>\n",
       "      <td>True</td>\n",
       "    </tr>\n",
       "    <tr>\n",
       "      <th>BrandEnlightened</th>\n",
       "      <td>True</td>\n",
       "    </tr>\n",
       "    <tr>\n",
       "      <th>BrownStarOfTX</th>\n",
       "      <td>True</td>\n",
       "    </tr>\n",
       "  </tbody>\n",
       "</table>\n",
       "</div>"
      ],
      "text/plain": [
       "                  subreddit\n",
       "username                   \n",
       "-goodguygeorge         True\n",
       "01is                   True\n",
       "0mn17h3047             True\n",
       "414D59                 True\n",
       "AbulaShabula           True\n",
       "Adjace-esque           True\n",
       "Attentive_cactus       True\n",
       "BasedOnAir             True\n",
       "BrandEnlightened       True\n",
       "BrownStarOfTX          True"
      ]
     },
     "execution_count": 31,
     "metadata": {},
     "output_type": "execute_result"
    }
   ],
   "source": [
    "# In the v1, the value is a *string*, representing on of pandas default aggregation functions (here, the same nunique as\n",
    "# we had been using above)\n",
    "v1 = df.groupby('username').agg({'subreddit': 'nunique'})\n",
    "\n",
    "\n",
    "# def foo(iamlist):\n",
    "#     return len(set(iamlist))\n",
    "# v1b = df.groupby('username').agg({'subreddit': foo})\n",
    "\n",
    "# In v2, we're using a custom function (here a lambda function). Custom functions let us use any standard python code to \n",
    "# design our aggregation functions\n",
    "# Here we reduce the aggregation to a set (which keep only unique items), and then we take the lenght of that set - which \n",
    "# is going to be the number of unique items\n",
    "v2 = df.groupby('username').agg({'subreddit': lambda x: len(set(x))})\n",
    "\n",
    "# v1 and v2 give the same results\n",
    "(v1 == v2).head(10)"
   ]
  },
  {
   "cell_type": "markdown",
   "metadata": {},
   "source": [
    "### For each user, let's compute the number of comments per subreddit\n",
    "\n",
    "Here are the steps to be able to compute this:\n",
    "1. Get the comments and unique subreddits per username\n",
    "2. Compute the ratio\n",
    "3. Format results\n",
    "\n",
    "First step: let's get the comments and unique subreddit in one operation\n"
   ]
  },
  {
   "cell_type": "code",
   "execution_count": 87,
   "metadata": {},
   "outputs": [
    {
     "data": {
      "text/html": [
       "<div>\n",
       "<style scoped>\n",
       "    .dataframe tbody tr th:only-of-type {\n",
       "        vertical-align: middle;\n",
       "    }\n",
       "\n",
       "    .dataframe tbody tr th {\n",
       "        vertical-align: top;\n",
       "    }\n",
       "\n",
       "    .dataframe thead tr th {\n",
       "        text-align: left;\n",
       "    }\n",
       "\n",
       "    .dataframe thead tr:last-of-type th {\n",
       "        text-align: right;\n",
       "    }\n",
       "</style>\n",
       "<table border=\"1\" class=\"dataframe\">\n",
       "  <thead>\n",
       "    <tr>\n",
       "      <th></th>\n",
       "      <th colspan=\"2\" halign=\"left\">subreddit</th>\n",
       "    </tr>\n",
       "    <tr>\n",
       "      <th></th>\n",
       "      <th>comments</th>\n",
       "      <th>unique_subs</th>\n",
       "    </tr>\n",
       "    <tr>\n",
       "      <th>username</th>\n",
       "      <th></th>\n",
       "      <th></th>\n",
       "    </tr>\n",
       "  </thead>\n",
       "  <tbody>\n",
       "    <tr>\n",
       "      <th>-goodguygeorge</th>\n",
       "      <td>978</td>\n",
       "      <td>106</td>\n",
       "    </tr>\n",
       "    <tr>\n",
       "      <th>01is</th>\n",
       "      <td>353</td>\n",
       "      <td>44</td>\n",
       "    </tr>\n",
       "    <tr>\n",
       "      <th>0mn17h3047</th>\n",
       "      <td>211</td>\n",
       "      <td>25</td>\n",
       "    </tr>\n",
       "    <tr>\n",
       "      <th>414D59</th>\n",
       "      <td>117</td>\n",
       "      <td>17</td>\n",
       "    </tr>\n",
       "    <tr>\n",
       "      <th>AbulaShabula</th>\n",
       "      <td>363</td>\n",
       "      <td>33</td>\n",
       "    </tr>\n",
       "  </tbody>\n",
       "</table>\n",
       "</div>"
      ],
      "text/plain": [
       "               subreddit            \n",
       "                comments unique_subs\n",
       "username                            \n",
       "-goodguygeorge       978         106\n",
       "01is                 353          44\n",
       "0mn17h3047           211          25\n",
       "414D59               117          17\n",
       "AbulaShabula         363          33"
      ]
     },
     "execution_count": 87,
     "metadata": {},
     "output_type": "execute_result"
    }
   ],
   "source": [
    "# The syntax to apply several aggregation on the same column is slightly different:\n",
    "# we still pass a dictionnary to the `.agg` function, the key is still the column to aggregate on\n",
    "# but the value becomes a *list* of tuples\n",
    "# each tuple starting with the name of the result column, followed by the aggregation function\n",
    "df2 = df.groupby('username').agg(\n",
    "    {'subreddit': [\n",
    "                    ('comments', lambda x: len(x)),\n",
    "                    ('unique_subs', lambda x: len(set(x)))\n",
    "                ],\n",
    "    },    \n",
    ")\n",
    "df2.head()"
   ]
  },
  {
   "cell_type": "code",
   "execution_count": 90,
   "metadata": {},
   "outputs": [],
   "source": [
    "# We get rid of the MultiIndex, it's making our life more complicated\n",
    "# requires pandas 0.24 or later\n",
    "df3 = df2.droplevel(axis='columns', level=0)"
   ]
  },
  {
   "cell_type": "code",
   "execution_count": 91,
   "metadata": {},
   "outputs": [
    {
     "data": {
      "text/html": [
       "<div>\n",
       "<style scoped>\n",
       "    .dataframe tbody tr th:only-of-type {\n",
       "        vertical-align: middle;\n",
       "    }\n",
       "\n",
       "    .dataframe tbody tr th {\n",
       "        vertical-align: top;\n",
       "    }\n",
       "\n",
       "    .dataframe thead th {\n",
       "        text-align: right;\n",
       "    }\n",
       "</style>\n",
       "<table border=\"1\" class=\"dataframe\">\n",
       "  <thead>\n",
       "    <tr style=\"text-align: right;\">\n",
       "      <th></th>\n",
       "      <th>comments</th>\n",
       "      <th>unique_subs</th>\n",
       "      <th>comments_per_sub</th>\n",
       "    </tr>\n",
       "    <tr>\n",
       "      <th>username</th>\n",
       "      <th></th>\n",
       "      <th></th>\n",
       "      <th></th>\n",
       "    </tr>\n",
       "  </thead>\n",
       "  <tbody>\n",
       "    <tr>\n",
       "      <th>Esstand</th>\n",
       "      <td>1000</td>\n",
       "      <td>8</td>\n",
       "      <td>125.000000</td>\n",
       "    </tr>\n",
       "    <tr>\n",
       "      <th>refugefirstmate</th>\n",
       "      <td>1000</td>\n",
       "      <td>12</td>\n",
       "      <td>83.333333</td>\n",
       "    </tr>\n",
       "    <tr>\n",
       "      <th>CyberHarassmentPanda</th>\n",
       "      <td>1000</td>\n",
       "      <td>14</td>\n",
       "      <td>71.428571</td>\n",
       "    </tr>\n",
       "    <tr>\n",
       "      <th>PumpTrump</th>\n",
       "      <td>1000</td>\n",
       "      <td>15</td>\n",
       "      <td>66.666667</td>\n",
       "    </tr>\n",
       "    <tr>\n",
       "      <th>decipedetimes10</th>\n",
       "      <td>1000</td>\n",
       "      <td>17</td>\n",
       "      <td>58.823529</td>\n",
       "    </tr>\n",
       "  </tbody>\n",
       "</table>\n",
       "</div>"
      ],
      "text/plain": [
       "                      comments  unique_subs  comments_per_sub\n",
       "username                                                     \n",
       "Esstand                   1000            8        125.000000\n",
       "refugefirstmate           1000           12         83.333333\n",
       "CyberHarassmentPanda      1000           14         71.428571\n",
       "PumpTrump                 1000           15         66.666667\n",
       "decipedetimes10           1000           17         58.823529"
      ]
     },
     "execution_count": 91,
     "metadata": {},
     "output_type": "execute_result"
    }
   ],
   "source": [
    "df3['comments_per_sub'] = df3['comments'] / df3['unique_subs']\n",
    "df4 = df3.sort_values(by='comments_per_sub', ascending=False)\n",
    "df4.head()"
   ]
  },
  {
   "cell_type": "markdown",
   "metadata": {},
   "source": [
    "### Filtering \n",
    "\n",
    "Filtering is quite straightforward. It uses the .loc, where the general syntax is:\n",
    "\n",
    "```\n",
    "df.loc[<column-selection>  <operator>  <value>]\n",
    "```\n",
    "1. `column-selection` is typically one clolumn from a database - ex: df['col']\n",
    "2. `operator` is a standard python operator ( =, >, <, >=, != ...)\n",
    "3. `value` can be a variable, a value, or another column\n"
   ]
  },
  {
   "cell_type": "code",
   "execution_count": 38,
   "metadata": {},
   "outputs": [
    {
     "data": {
      "text/html": [
       "<div>\n",
       "<style scoped>\n",
       "    .dataframe tbody tr th:only-of-type {\n",
       "        vertical-align: middle;\n",
       "    }\n",
       "\n",
       "    .dataframe tbody tr th {\n",
       "        vertical-align: top;\n",
       "    }\n",
       "\n",
       "    .dataframe thead th {\n",
       "        text-align: right;\n",
       "    }\n",
       "</style>\n",
       "<table border=\"1\" class=\"dataframe\">\n",
       "  <thead>\n",
       "    <tr style=\"text-align: right;\">\n",
       "      <th></th>\n",
       "      <th>comments</th>\n",
       "      <th>unique_subs</th>\n",
       "      <th>comments_per_sub</th>\n",
       "    </tr>\n",
       "    <tr>\n",
       "      <th>username</th>\n",
       "      <th></th>\n",
       "      <th></th>\n",
       "      <th></th>\n",
       "    </tr>\n",
       "  </thead>\n",
       "  <tbody>\n",
       "    <tr>\n",
       "      <th>mr_fn_wonderful</th>\n",
       "      <td>999</td>\n",
       "      <td>21</td>\n",
       "      <td>47.571429</td>\n",
       "    </tr>\n",
       "    <tr>\n",
       "      <th>The_seph_i_am</th>\n",
       "      <td>986</td>\n",
       "      <td>32</td>\n",
       "      <td>30.812500</td>\n",
       "    </tr>\n",
       "    <tr>\n",
       "      <th>laserbong</th>\n",
       "      <td>804</td>\n",
       "      <td>29</td>\n",
       "      <td>27.724138</td>\n",
       "    </tr>\n",
       "    <tr>\n",
       "      <th>daze6</th>\n",
       "      <td>155</td>\n",
       "      <td>6</td>\n",
       "      <td>25.833333</td>\n",
       "    </tr>\n",
       "    <tr>\n",
       "      <th>Drums_And_Dreams</th>\n",
       "      <td>203</td>\n",
       "      <td>8</td>\n",
       "      <td>25.375000</td>\n",
       "    </tr>\n",
       "  </tbody>\n",
       "</table>\n",
       "</div>"
      ],
      "text/plain": [
       "                  comments  unique_subs  comments_per_sub\n",
       "username                                                 \n",
       "mr_fn_wonderful        999           21         47.571429\n",
       "The_seph_i_am          986           32         30.812500\n",
       "laserbong              804           29         27.724138\n",
       "daze6                  155            6         25.833333\n",
       "Drums_And_Dreams       203            8         25.375000"
      ]
     },
     "execution_count": 38,
     "metadata": {},
     "output_type": "execute_result"
    }
   ],
   "source": [
    "# A simple example, where we select all users who've made strictly less than 1000 comments\n",
    "df4.loc[df4['comments'] < 1000].head()"
   ]
  },
  {
   "cell_type": "markdown",
   "metadata": {},
   "source": [
    "### Using filtering to find active redditors\n",
    "\n",
    "Let's use filtering to identify active redditors, which we'll define as users:\n",
    "1. Not having exactly 1000 comments (this number looks artificial, let's remove it as a potential outlier)\n",
    "2. Having either :\n",
    "- Commented in at least 10 subreddits\n",
    "- At least 3 comments per subreddit\n"
   ]
  },
  {
   "cell_type": "code",
   "execution_count": 92,
   "metadata": {},
   "outputs": [
    {
     "name": "stdout",
     "output_type": "stream",
     "text": [
      "there are 120 active redditors in our sample\n"
     ]
    }
   ],
   "source": [
    "# Then we find out who are the active users in our population by using this expresion. \n",
    "# Note:\n",
    "# - the '&' signifies a lofgical AND\n",
    "# - the '|' signifies a lofgical OR\n",
    "active_redditors = df4.loc[\n",
    "                           (df4['comments'] != 1000) & \n",
    "                            # note the use of brackets to isolate the OR expression\n",
    "                           ((df4['unique_subs'] >= 10) | (df4['comments_per_sub'] >= 3))  \n",
    "                          ]\n",
    "msg = f'there are {len(active_redditors)} active redditors in our sample'\n",
    "print(msg)"
   ]
  },
  {
   "cell_type": "markdown",
   "metadata": {},
   "source": [
    "#### Exercise 2\n",
    "\n",
    "1. Find each subreddit, find how many users have the string \"trump\" (case insensitive) in their name, and how many comments they have made\n",
    "2. What are the top 10 subreddits who have the most comments made by users with \"trump\" in their name\n",
    "3. Can you adapt the code to look for any string\n"
   ]
  },
  {
   "cell_type": "code",
   "execution_count": 98,
   "metadata": {},
   "outputs": [],
   "source": [
    "## exercise code goes here\n",
    "\n",
    "#1. Use apply\n",
    "not_trump_user = df['username'][0]\n",
    "trump_user = 'TrUmPvcudishviduohvl'"
   ]
  },
  {
   "cell_type": "code",
   "execution_count": 101,
   "metadata": {},
   "outputs": [
    {
     "data": {
      "text/plain": [
       "False"
      ]
     },
     "execution_count": 101,
     "metadata": {},
     "output_type": "execute_result"
    }
   ],
   "source": [
    "'trump' in not_trump_user"
   ]
  },
  {
   "cell_type": "code",
   "execution_count": 106,
   "metadata": {},
   "outputs": [],
   "source": [
    "def check_trump(elem):\n",
    "    return 'trump' in elem.lower()"
   ]
  },
  {
   "cell_type": "code",
   "execution_count": 108,
   "metadata": {},
   "outputs": [],
   "source": [
    "df['is_trump'] = df['username'].apply(check_trump)\n",
    "\n"
   ]
  },
  {
   "cell_type": "code",
   "execution_count": 118,
   "metadata": {},
   "outputs": [
    {
     "data": {
      "text/html": [
       "<div>\n",
       "<style scoped>\n",
       "    .dataframe tbody tr th:only-of-type {\n",
       "        vertical-align: middle;\n",
       "    }\n",
       "\n",
       "    .dataframe tbody tr th {\n",
       "        vertical-align: top;\n",
       "    }\n",
       "\n",
       "    .dataframe thead th {\n",
       "        text-align: right;\n",
       "    }\n",
       "</style>\n",
       "<table border=\"1\" class=\"dataframe\">\n",
       "  <thead>\n",
       "    <tr style=\"text-align: right;\">\n",
       "      <th></th>\n",
       "      <th>nb_users</th>\n",
       "      <th>nb_comments</th>\n",
       "    </tr>\n",
       "    <tr>\n",
       "      <th>subreddit</th>\n",
       "      <th></th>\n",
       "      <th></th>\n",
       "    </tr>\n",
       "  </thead>\n",
       "  <tbody>\n",
       "    <tr>\n",
       "      <th>The_Donald</th>\n",
       "      <td>2</td>\n",
       "      <td>935</td>\n",
       "    </tr>\n",
       "    <tr>\n",
       "      <th>politics</th>\n",
       "      <td>3</td>\n",
       "      <td>750</td>\n",
       "    </tr>\n",
       "    <tr>\n",
       "      <th>PoliticalDiscussion</th>\n",
       "      <td>2</td>\n",
       "      <td>317</td>\n",
       "    </tr>\n",
       "    <tr>\n",
       "      <th>news</th>\n",
       "      <td>3</td>\n",
       "      <td>174</td>\n",
       "    </tr>\n",
       "    <tr>\n",
       "      <th>worldnews</th>\n",
       "      <td>3</td>\n",
       "      <td>91</td>\n",
       "    </tr>\n",
       "    <tr>\n",
       "      <th>technology</th>\n",
       "      <td>1</td>\n",
       "      <td>73</td>\n",
       "    </tr>\n",
       "    <tr>\n",
       "      <th>environment</th>\n",
       "      <td>2</td>\n",
       "      <td>66</td>\n",
       "    </tr>\n",
       "    <tr>\n",
       "      <th>videos</th>\n",
       "      <td>2</td>\n",
       "      <td>56</td>\n",
       "    </tr>\n",
       "    <tr>\n",
       "      <th>houston</th>\n",
       "      <td>1</td>\n",
       "      <td>28</td>\n",
       "    </tr>\n",
       "    <tr>\n",
       "      <th>Futurology</th>\n",
       "      <td>3</td>\n",
       "      <td>27</td>\n",
       "    </tr>\n",
       "  </tbody>\n",
       "</table>\n",
       "</div>"
      ],
      "text/plain": [
       "                     nb_users  nb_comments\n",
       "subreddit                                 \n",
       "The_Donald                  2          935\n",
       "politics                    3          750\n",
       "PoliticalDiscussion         2          317\n",
       "news                        3          174\n",
       "worldnews                   3           91\n",
       "technology                  1           73\n",
       "environment                 2           66\n",
       "videos                      2           56\n",
       "houston                     1           28\n",
       "Futurology                  3           27"
      ]
     },
     "execution_count": 118,
     "metadata": {},
     "output_type": "execute_result"
    }
   ],
   "source": [
    "\n",
    "(df.loc[df['is_trump'] == True]\n",
    "    .groupby('subreddit')\n",
    "    .agg({'username': [('nb_users', lambda x: len(set(x))), ('nb_comments', lambda x: len(x))]})\n",
    "    .droplevel(axis='columns', level=0)\n",
    "    .sort_values(by='nb_comments', ascending=False)\n",
    "     .head(10)\n",
    ")\n"
   ]
  },
  {
   "cell_type": "code",
   "execution_count": 129,
   "metadata": {},
   "outputs": [
    {
     "data": {
      "text/html": [
       "<div>\n",
       "<style scoped>\n",
       "    .dataframe tbody tr th:only-of-type {\n",
       "        vertical-align: middle;\n",
       "    }\n",
       "\n",
       "    .dataframe tbody tr th {\n",
       "        vertical-align: top;\n",
       "    }\n",
       "\n",
       "    .dataframe thead th {\n",
       "        text-align: right;\n",
       "    }\n",
       "</style>\n",
       "<table border=\"1\" class=\"dataframe\">\n",
       "  <thead>\n",
       "    <tr style=\"text-align: right;\">\n",
       "      <th></th>\n",
       "      <th>nb_users</th>\n",
       "      <th>nb_comments</th>\n",
       "    </tr>\n",
       "    <tr>\n",
       "      <th>subreddit</th>\n",
       "      <th></th>\n",
       "      <th></th>\n",
       "    </tr>\n",
       "  </thead>\n",
       "  <tbody>\n",
       "    <tr>\n",
       "      <th>casualiama</th>\n",
       "      <td>1</td>\n",
       "      <td>266</td>\n",
       "    </tr>\n",
       "    <tr>\n",
       "      <th>nba</th>\n",
       "      <td>1</td>\n",
       "      <td>157</td>\n",
       "    </tr>\n",
       "    <tr>\n",
       "      <th>politics</th>\n",
       "      <td>2</td>\n",
       "      <td>127</td>\n",
       "    </tr>\n",
       "    <tr>\n",
       "      <th>changemyview</th>\n",
       "      <td>2</td>\n",
       "      <td>124</td>\n",
       "    </tr>\n",
       "    <tr>\n",
       "      <th>modelmakers</th>\n",
       "      <td>1</td>\n",
       "      <td>99</td>\n",
       "    </tr>\n",
       "    <tr>\n",
       "      <th>PoliticalDiscussion</th>\n",
       "      <td>1</td>\n",
       "      <td>97</td>\n",
       "    </tr>\n",
       "    <tr>\n",
       "      <th>NorthCarolina</th>\n",
       "      <td>1</td>\n",
       "      <td>89</td>\n",
       "    </tr>\n",
       "    <tr>\n",
       "      <th>education</th>\n",
       "      <td>1</td>\n",
       "      <td>66</td>\n",
       "    </tr>\n",
       "    <tr>\n",
       "      <th>pcmasterrace</th>\n",
       "      <td>1</td>\n",
       "      <td>63</td>\n",
       "    </tr>\n",
       "    <tr>\n",
       "      <th>Overwatch</th>\n",
       "      <td>2</td>\n",
       "      <td>62</td>\n",
       "    </tr>\n",
       "  </tbody>\n",
       "</table>\n",
       "</div>"
      ],
      "text/plain": [
       "                     nb_users  nb_comments\n",
       "subreddit                                 \n",
       "casualiama                  1          266\n",
       "nba                         1          157\n",
       "politics                    2          127\n",
       "changemyview                2          124\n",
       "modelmakers                 1           99\n",
       "PoliticalDiscussion         1           97\n",
       "NorthCarolina               1           89\n",
       "education                   1           66\n",
       "pcmasterrace                1           63\n",
       "Overwatch                   2           62"
      ]
     },
     "execution_count": 129,
     "metadata": {},
     "output_type": "execute_result"
    }
   ],
   "source": [
    "def check_token(elem, token):\n",
    "    return token.lower() in elem.lower()\n",
    "\n",
    "def find_top_10_with_token(df, token):\n",
    "    df['is_token'] = df['username'].apply(check_token, args=(token,))\n",
    "    \n",
    "    return (df.loc[df['is_token'] == True]\n",
    "         .groupby('subreddit')\n",
    "         .agg({'username': [('nb_users', lambda x: len(set(x))), ('nb_comments', lambda x: len(x))]})\n",
    "         .droplevel(axis='columns', level=0)\n",
    "         .sort_values(by='nb_comments', ascending=False)\n",
    "         .head(10)\n",
    "    )\n",
    "\n",
    "find_top_10_with_token(df, token='car')"
   ]
  },
  {
   "cell_type": "code",
   "execution_count": 225,
   "metadata": {},
   "outputs": [
    {
     "data": {
      "text/html": [
       "<div>\n",
       "<style scoped>\n",
       "    .dataframe tbody tr th:only-of-type {\n",
       "        vertical-align: middle;\n",
       "    }\n",
       "\n",
       "    .dataframe tbody tr th {\n",
       "        vertical-align: top;\n",
       "    }\n",
       "\n",
       "    .dataframe thead th {\n",
       "        text-align: right;\n",
       "    }\n",
       "</style>\n",
       "<table border=\"1\" class=\"dataframe\">\n",
       "  <thead>\n",
       "    <tr style=\"text-align: right;\">\n",
       "      <th></th>\n",
       "      <th>nb_comments</th>\n",
       "    </tr>\n",
       "    <tr>\n",
       "      <th>subreddit</th>\n",
       "      <th></th>\n",
       "    </tr>\n",
       "  </thead>\n",
       "  <tbody>\n",
       "    <tr>\n",
       "      <th>The_Donald</th>\n",
       "      <td>935</td>\n",
       "    </tr>\n",
       "    <tr>\n",
       "      <th>politics</th>\n",
       "      <td>750</td>\n",
       "    </tr>\n",
       "    <tr>\n",
       "      <th>PoliticalDiscussion</th>\n",
       "      <td>317</td>\n",
       "    </tr>\n",
       "    <tr>\n",
       "      <th>news</th>\n",
       "      <td>174</td>\n",
       "    </tr>\n",
       "    <tr>\n",
       "      <th>worldnews</th>\n",
       "      <td>91</td>\n",
       "    </tr>\n",
       "    <tr>\n",
       "      <th>technology</th>\n",
       "      <td>73</td>\n",
       "    </tr>\n",
       "    <tr>\n",
       "      <th>environment</th>\n",
       "      <td>66</td>\n",
       "    </tr>\n",
       "    <tr>\n",
       "      <th>videos</th>\n",
       "      <td>56</td>\n",
       "    </tr>\n",
       "    <tr>\n",
       "      <th>houston</th>\n",
       "      <td>28</td>\n",
       "    </tr>\n",
       "    <tr>\n",
       "      <th>Futurology</th>\n",
       "      <td>27</td>\n",
       "    </tr>\n",
       "  </tbody>\n",
       "</table>\n",
       "</div>"
      ],
      "text/plain": [
       "                     nb_comments\n",
       "subreddit                       \n",
       "The_Donald                   935\n",
       "politics                     750\n",
       "PoliticalDiscussion          317\n",
       "news                         174\n",
       "worldnews                     91\n",
       "technology                    73\n",
       "environment                   66\n",
       "videos                        56\n",
       "houston                       28\n",
       "Futurology                    27"
      ]
     },
     "execution_count": 225,
     "metadata": {},
     "output_type": "execute_result"
    }
   ],
   "source": []
  },
  {
   "cell_type": "code",
   "execution_count": 238,
   "metadata": {},
   "outputs": [
    {
     "data": {
      "text/html": [
       "<div>\n",
       "<style scoped>\n",
       "    .dataframe tbody tr th:only-of-type {\n",
       "        vertical-align: middle;\n",
       "    }\n",
       "\n",
       "    .dataframe tbody tr th {\n",
       "        vertical-align: top;\n",
       "    }\n",
       "\n",
       "    .dataframe thead th {\n",
       "        text-align: right;\n",
       "    }\n",
       "</style>\n",
       "<table border=\"1\" class=\"dataframe\">\n",
       "  <thead>\n",
       "    <tr style=\"text-align: right;\">\n",
       "      <th></th>\n",
       "      <th>nb_comments</th>\n",
       "    </tr>\n",
       "    <tr>\n",
       "      <th>subreddit</th>\n",
       "      <th></th>\n",
       "    </tr>\n",
       "  </thead>\n",
       "  <tbody>\n",
       "    <tr>\n",
       "      <th>leagueoflegends</th>\n",
       "      <td>88</td>\n",
       "    </tr>\n",
       "    <tr>\n",
       "      <th>cringepics</th>\n",
       "      <td>44</td>\n",
       "    </tr>\n",
       "    <tr>\n",
       "      <th>bestoftribunal</th>\n",
       "      <td>21</td>\n",
       "    </tr>\n",
       "    <tr>\n",
       "      <th>LeagueOfGiving</th>\n",
       "      <td>20</td>\n",
       "    </tr>\n",
       "    <tr>\n",
       "      <th>mildlyinteresting</th>\n",
       "      <td>14</td>\n",
       "    </tr>\n",
       "    <tr>\n",
       "      <th>fffffffuuuuuuuuuuuu</th>\n",
       "      <td>13</td>\n",
       "    </tr>\n",
       "    <tr>\n",
       "      <th>WTF</th>\n",
       "      <td>10</td>\n",
       "    </tr>\n",
       "    <tr>\n",
       "      <th>LoLCodeTrade</th>\n",
       "      <td>10</td>\n",
       "    </tr>\n",
       "    <tr>\n",
       "      <th>CrappyDesign</th>\n",
       "      <td>9</td>\n",
       "    </tr>\n",
       "    <tr>\n",
       "      <th>LifeProTips</th>\n",
       "      <td>9</td>\n",
       "    </tr>\n",
       "  </tbody>\n",
       "</table>\n",
       "</div>"
      ],
      "text/plain": [
       "                     nb_comments\n",
       "subreddit                       \n",
       "leagueoflegends               88\n",
       "cringepics                    44\n",
       "bestoftribunal                21\n",
       "LeagueOfGiving                20\n",
       "mildlyinteresting             14\n",
       "fffffffuuuuuuuuuuuu           13\n",
       "WTF                           10\n",
       "LoLCodeTrade                  10\n",
       "CrappyDesign                   9\n",
       "LifeProTips                    9"
      ]
     },
     "execution_count": 238,
     "metadata": {},
     "output_type": "execute_result"
    }
   ],
   "source": [
    "#3. use functions\n",
    "def had_token(username, token):\n",
    "    if token.lower() in username.lower():\n",
    "        return True\n",
    "\n",
    "\n",
    "def get_results(token: str):\n",
    "    token_col = f'is_{token}'    \n",
    "    df[token_col] = df['username'].apply(had_token, args=(token,))\n",
    "\n",
    "    return (df.loc[df[token_col] == True]\n",
    "       .groupby('subreddit')\n",
    "       .agg({'subreddit': 'count'})\n",
    "       .rename(columns={'subreddit': 'nb_comments'})\n",
    "       .sort_values(by='nb_comments', ascending=False)\n",
    "       .head(10)\n",
    "    ) \n",
    "\n",
    "get_results('cat')"
   ]
  },
  {
   "cell_type": "code",
   "execution_count": 169,
   "metadata": {},
   "outputs": [],
   "source": [
    "## generic version\n",
    "\n"
   ]
  },
  {
   "cell_type": "markdown",
   "metadata": {},
   "source": [
    "#### Exercise 3\n",
    "\n",
    "1. Find the top 10 subreddits with the most users\n",
    "2. For active redditors, find the median number of comments, the 25th and 75th percentile of unique_subs\n",
    "3. Find the subreddit with the most comments in one hour (including the date component)\n",
    "4. Plot a timeserie of:\n",
    "    - Number of comments per day\n",
    "    - Number of comments per day, only in subreddit where at least one \"trump user\" has commented, only comments written since 01 Jan 2016\n",
    "5. [optional] Recompute the active redditors in a single expression    \n",
    "\n"
   ]
  },
  {
   "cell_type": "code",
   "execution_count": 151,
   "metadata": {},
   "outputs": [
    {
     "data": {
      "text/html": [
       "<div>\n",
       "<style scoped>\n",
       "    .dataframe tbody tr th:only-of-type {\n",
       "        vertical-align: middle;\n",
       "    }\n",
       "\n",
       "    .dataframe tbody tr th {\n",
       "        vertical-align: top;\n",
       "    }\n",
       "\n",
       "    .dataframe thead th {\n",
       "        text-align: right;\n",
       "    }\n",
       "</style>\n",
       "<table border=\"1\" class=\"dataframe\">\n",
       "  <thead>\n",
       "    <tr style=\"text-align: right;\">\n",
       "      <th></th>\n",
       "      <th>username</th>\n",
       "    </tr>\n",
       "    <tr>\n",
       "      <th>subreddit</th>\n",
       "      <th></th>\n",
       "    </tr>\n",
       "  </thead>\n",
       "  <tbody>\n",
       "    <tr>\n",
       "      <th>AskReddit</th>\n",
       "      <td>141</td>\n",
       "    </tr>\n",
       "    <tr>\n",
       "      <th>news</th>\n",
       "      <td>127</td>\n",
       "    </tr>\n",
       "    <tr>\n",
       "      <th>pics</th>\n",
       "      <td>124</td>\n",
       "    </tr>\n",
       "    <tr>\n",
       "      <th>funny</th>\n",
       "      <td>122</td>\n",
       "    </tr>\n",
       "    <tr>\n",
       "      <th>todayilearned</th>\n",
       "      <td>122</td>\n",
       "    </tr>\n",
       "    <tr>\n",
       "      <th>worldnews</th>\n",
       "      <td>116</td>\n",
       "    </tr>\n",
       "    <tr>\n",
       "      <th>videos</th>\n",
       "      <td>108</td>\n",
       "    </tr>\n",
       "    <tr>\n",
       "      <th>gifs</th>\n",
       "      <td>105</td>\n",
       "    </tr>\n",
       "    <tr>\n",
       "      <th>GetMotivated</th>\n",
       "      <td>100</td>\n",
       "    </tr>\n",
       "    <tr>\n",
       "      <th>Showerthoughts</th>\n",
       "      <td>99</td>\n",
       "    </tr>\n",
       "  </tbody>\n",
       "</table>\n",
       "</div>"
      ],
      "text/plain": [
       "                username\n",
       "subreddit               \n",
       "AskReddit            141\n",
       "news                 127\n",
       "pics                 124\n",
       "funny                122\n",
       "todayilearned        122\n",
       "worldnews            116\n",
       "videos               108\n",
       "gifs                 105\n",
       "GetMotivated         100\n",
       "Showerthoughts        99"
      ]
     },
     "execution_count": 151,
     "metadata": {},
     "output_type": "execute_result"
    }
   ],
   "source": [
    "## exercise code goes here\n",
    "import matplotlib.pyplot as plt\n",
    "%matplotlib inline\n",
    "\n",
    "## Exercise 1\n",
    "df.groupby('subreddit')['username'].nunique().sort_values(ascending=False).head(10)\n",
    "\n",
    "(df.groupby('subreddit')\n",
    "   .agg({'username': lambda x: len(set(x))})\n",
    "   .sort_values(by='username', ascending=False)\n",
    "   .head(10)\n",
    ")\n"
   ]
  },
  {
   "cell_type": "code",
   "execution_count": 157,
   "metadata": {},
   "outputs": [
    {
     "name": "stdout",
     "output_type": "stream",
     "text": [
      "\n",
      "Comments from active redditors: 25p 95.75, median 264.0, 75p 602.0\n",
      "Unique Subs from active redditors: 25p 20.0, median 34.0, 75p 57.25\n",
      "\n"
     ]
    }
   ],
   "source": [
    "### exercise 2 \n",
    "# For active redditors, find the median number of comments, the 25th and 75th percentile of unique_subs\n",
    "active_redditors\n",
    "comments_25, comments_50, comments_75 = np.percentile(active_redditors['comments'], q=(25, 50, 75))\n",
    "unique_subs_25, unique_subs_50, unique_subs_75 = np.percentile(active_redditors['unique_subs'], q=(25, 50, 75))\n",
    "\n",
    "msg = f\"\"\"\n",
    "Comments from active redditors: 25p {comments_25}, median {comments_50}, 75p {comments_75}\n",
    "Unique Subs from active redditors: 25p {unique_subs_25}, median {unique_subs_50}, 75p {unique_subs_75}\n",
    "\"\"\"\n",
    "print(msg)"
   ]
  },
  {
   "cell_type": "code",
   "execution_count": 172,
   "metadata": {},
   "outputs": [
    {
     "data": {
      "text/html": [
       "<div>\n",
       "<style scoped>\n",
       "    .dataframe tbody tr th:only-of-type {\n",
       "        vertical-align: middle;\n",
       "    }\n",
       "\n",
       "    .dataframe tbody tr th {\n",
       "        vertical-align: top;\n",
       "    }\n",
       "\n",
       "    .dataframe thead th {\n",
       "        text-align: right;\n",
       "    }\n",
       "</style>\n",
       "<table border=\"1\" class=\"dataframe\">\n",
       "  <thead>\n",
       "    <tr style=\"text-align: right;\">\n",
       "      <th></th>\n",
       "      <th></th>\n",
       "      <th></th>\n",
       "      <th>nb_comments</th>\n",
       "    </tr>\n",
       "    <tr>\n",
       "      <th>subreddit</th>\n",
       "      <th>date</th>\n",
       "      <th>hour_of_day</th>\n",
       "      <th></th>\n",
       "    </tr>\n",
       "  </thead>\n",
       "  <tbody>\n",
       "    <tr>\n",
       "      <th>news</th>\n",
       "      <th>2016-12-26</th>\n",
       "      <th>15</th>\n",
       "      <td>108</td>\n",
       "    </tr>\n",
       "  </tbody>\n",
       "</table>\n",
       "</div>"
      ],
      "text/plain": [
       "                                  nb_comments\n",
       "subreddit date       hour_of_day             \n",
       "news      2016-12-26 15                   108"
      ]
     },
     "execution_count": 172,
     "metadata": {},
     "output_type": "execute_result"
    }
   ],
   "source": [
    "## Exercise 3\n",
    "# Find the subreddit with the most comments in one hour (including the date component)\n",
    "(df.groupby(['subreddit', 'date', 'hour_of_day'])\n",
    "   .agg({'utc': 'count'})\n",
    "   .sort_values(by='utc', ascending=False)\n",
    "   .head(1)\n",
    "   .rename(columns={\"utc\": 'nb_comments'})\n",
    ")   "
   ]
  },
  {
   "cell_type": "code",
   "execution_count": 178,
   "metadata": {},
   "outputs": [
    {
     "data": {
      "text/plain": [
       "<matplotlib.axes._subplots.AxesSubplot at 0x7fc594de0f98>"
      ]
     },
     "execution_count": 178,
     "metadata": {},
     "output_type": "execute_result"
    },
    {
     "data": {
      "image/png": "[encoded data removed]",
      "text/plain": [
       "<Figure size 1296x576 with 1 Axes>"
      ]
     },
     "metadata": {
      "needs_background": "light"
     },
     "output_type": "display_data"
    }
   ],
   "source": [
    "import matplotlib.pyplot as plt\n",
    "%matplotlib inline\n",
    "\n",
    "## exercise 4\n",
    "to_plot = (df.groupby('subreddit')\n",
    "   .agg({'username': lambda x: len(set(x)) })\n",
    "   .sort_values(by='username', ascending=False)\n",
    "   .head(10)\n",
    ")  \n",
    "\n",
    "to_plot.plot(figsize=(18, 8), kind='bar', title='HELLO WORLD')\n"
   ]
  },
  {
   "cell_type": "code",
   "execution_count": 189,
   "metadata": {},
   "outputs": [
    {
     "data": {
      "text/plain": [
       "120"
      ]
     },
     "execution_count": 189,
     "metadata": {},
     "output_type": "execute_result"
    }
   ],
   "source": [
    "## HINTS 5\n",
    "# [optional] Recompute the active redditors in a single expression \n",
    "def filter_pipe(df):\n",
    "    return df.loc[\n",
    "           (df['comments'] != 1000) & \n",
    "            # note the use of brackets to isolate the OR expression\n",
    "           ((df['unique_subs'] >= 10) | (df['comments_per_sub'] >= 3))  \n",
    "          ]    \n",
    "\n",
    "len(df.groupby('username').agg(\n",
    "        {'subreddit': [\n",
    "                        ('comments', lambda x: len(x)),\n",
    "                        ('unique_subs', lambda x: len(set(x)))\n",
    "                    ],\n",
    "        },)\n",
    "     .droplevel(level=0, axis='columns')\n",
    "     .assign(comments_per_sub=lambda x: x['comments'] / x['unique_subs'])\n",
    "     .sort_values(by='comments_per_sub', ascending=False)\n",
    "     .pipe(filter_pipe)\n",
    ")\n",
    "\n"
   ]
  },
  {
   "cell_type": "code",
   "execution_count": 270,
   "metadata": {},
   "outputs": [
    {
     "name": "stdout",
     "output_type": "stream",
     "text": [
      "\n",
      "Stats for comments: \n",
      "+ p25: 95.75, p50: 264.0, p75: 602.0\n",
      "\n",
      "Stats for unique subs: \n",
      "+ p25: 20.0, p50: 34.0, p75: 57.25\n",
      "\n"
     ]
    }
   ],
   "source": [
    "# 2. For active redditors, find the median number of comments, \n",
    "# the 25th and 75th percentile of unique_subs\n",
    "# 2. function for active_redditors\n",
    "# np.median\n"
   ]
  },
  {
   "cell_type": "code",
   "execution_count": 275,
   "metadata": {},
   "outputs": [
    {
     "data": {
      "text/html": [
       "<div>\n",
       "<style scoped>\n",
       "    .dataframe tbody tr th:only-of-type {\n",
       "        vertical-align: middle;\n",
       "    }\n",
       "\n",
       "    .dataframe tbody tr th {\n",
       "        vertical-align: top;\n",
       "    }\n",
       "\n",
       "    .dataframe thead th {\n",
       "        text-align: right;\n",
       "    }\n",
       "</style>\n",
       "<table border=\"1\" class=\"dataframe\">\n",
       "  <thead>\n",
       "    <tr style=\"text-align: right;\">\n",
       "      <th></th>\n",
       "      <th></th>\n",
       "      <th></th>\n",
       "      <th>comments</th>\n",
       "    </tr>\n",
       "    <tr>\n",
       "      <th>subreddit</th>\n",
       "      <th>date</th>\n",
       "      <th>hour</th>\n",
       "      <th></th>\n",
       "    </tr>\n",
       "  </thead>\n",
       "  <tbody>\n",
       "    <tr>\n",
       "      <th>news</th>\n",
       "      <th>2016-12-26</th>\n",
       "      <th>15</th>\n",
       "      <td>108</td>\n",
       "    </tr>\n",
       "  </tbody>\n",
       "</table>\n",
       "</div>"
      ],
      "text/plain": [
       "                           comments\n",
       "subreddit date       hour          \n",
       "news      2016-12-26 15         108"
      ]
     },
     "execution_count": 275,
     "metadata": {},
     "output_type": "execute_result"
    }
   ],
   "source": [
    "# 3. combination of date + hour\n"
   ]
  },
  {
   "cell_type": "code",
   "execution_count": 294,
   "metadata": {},
   "outputs": [
    {
     "data": {
      "text/plain": [
       "<matplotlib.axes._subplots.AxesSubplot at 0x7fa157f50048>"
      ]
     },
     "execution_count": 294,
     "metadata": {},
     "output_type": "execute_result"
    },
    {
     "data": {
      "image/png": "[encoded data removed]",
      "text/plain": [
       "<Figure size 1296x576 with 1 Axes>"
      ]
     },
     "metadata": {
      "needs_background": "light"
     },
     "output_type": "display_data"
    }
   ],
   "source": [
    "#4. Plot a timeserie of:\n",
    "#    - Number of comments per day\n",
    "#    - Number of comments per day, only in subreddit where at least one \"trump user\" has commented, only comments written since 01 Jan 2016    \n"
   ]
  },
  {
   "cell_type": "code",
   "execution_count": 292,
   "metadata": {},
   "outputs": [
    {
     "data": {
      "text/plain": [
       "<matplotlib.axes._subplots.AxesSubplot at 0x7fa15daf5588>"
      ]
     },
     "execution_count": 292,
     "metadata": {},
     "output_type": "execute_result"
    },
    {
     "data": {
      "image/png": "[encoded data removed]",
      "text/plain": [
       "<Figure size 1296x576 with 1 Axes>"
      ]
     },
     "metadata": {
      "needs_background": "light"
     },
     "output_type": "display_data"
    }
   ],
   "source": [
    "def is_trump(username):\n",
    "    if 'trump' in username.lower():\n",
    "        return True\n",
    "    \n",
    "df['is_trump'] = df['username'].apply(is_trump)\n",
    "subs_trump = set(df.loc[df.is_trump == True, 'subreddit'])\n",
    "\n",
    "(df.loc[(df.subreddit.isin(subs_trump)) & (df.date > dt.date(2016, 1, 1))]\n",
    "   .groupby('date')['username']\n",
    "   .count()\n",
    "   .sort_values(ascending=False)\n",
    "   .plot(kind='line', figsize=(18,8), title='I AM TITLE')\n",
    ") "
   ]
  },
  {
   "cell_type": "code",
   "execution_count": 295,
   "metadata": {},
   "outputs": [
    {
     "data": {
      "text/plain": [
       "<matplotlib.axes._subplots.AxesSubplot at 0x7fa157f40518>"
      ]
     },
     "execution_count": 295,
     "metadata": {},
     "output_type": "execute_result"
    },
    {
     "data": {
      "image/png": "[encoded data removed]",
      "text/plain": [
       "<Figure size 1296x576 with 1 Axes>"
      ]
     },
     "metadata": {
      "needs_background": "light"
     },
     "output_type": "display_data"
    }
   ],
   "source": [
    "subs_trump = set(df.loc[df.is_trump == True, 'subreddit'])\n",
    "\n",
    "(df.loc[(df['subreddit'].apply(lambda x: x in subs_trump)) & (df.date > dt.date(2016, 1, 1))]\n",
    "   .groupby('date')['username']\n",
    "   .count()\n",
    "   .sort_values(ascending=False)\n",
    "   .plot(kind='line', figsize=(18,8), title='I AM TITLE')\n",
    ") "
   ]
  },
  {
   "cell_type": "code",
   "execution_count": 312,
   "metadata": {},
   "outputs": [
    {
     "data": {
      "text/html": [
       "<div>\n",
       "<style scoped>\n",
       "    .dataframe tbody tr th:only-of-type {\n",
       "        vertical-align: middle;\n",
       "    }\n",
       "\n",
       "    .dataframe tbody tr th {\n",
       "        vertical-align: top;\n",
       "    }\n",
       "\n",
       "    .dataframe thead th {\n",
       "        text-align: right;\n",
       "    }\n",
       "</style>\n",
       "<table border=\"1\" class=\"dataframe\">\n",
       "  <thead>\n",
       "    <tr style=\"text-align: right;\">\n",
       "      <th></th>\n",
       "      <th>comments</th>\n",
       "      <th>unique_subs</th>\n",
       "      <th>nb_comments_per_sub</th>\n",
       "    </tr>\n",
       "    <tr>\n",
       "      <th>username</th>\n",
       "      <th></th>\n",
       "      <th></th>\n",
       "      <th></th>\n",
       "    </tr>\n",
       "  </thead>\n",
       "  <tbody>\n",
       "    <tr>\n",
       "      <th>mr_fn_wonderful</th>\n",
       "      <td>999</td>\n",
       "      <td>21</td>\n",
       "      <td>47.571429</td>\n",
       "    </tr>\n",
       "    <tr>\n",
       "      <th>The_seph_i_am</th>\n",
       "      <td>986</td>\n",
       "      <td>32</td>\n",
       "      <td>30.812500</td>\n",
       "    </tr>\n",
       "    <tr>\n",
       "      <th>laserbong</th>\n",
       "      <td>804</td>\n",
       "      <td>29</td>\n",
       "      <td>27.724138</td>\n",
       "    </tr>\n",
       "    <tr>\n",
       "      <th>daze6</th>\n",
       "      <td>155</td>\n",
       "      <td>6</td>\n",
       "      <td>25.833333</td>\n",
       "    </tr>\n",
       "    <tr>\n",
       "      <th>Drums_And_Dreams</th>\n",
       "      <td>203</td>\n",
       "      <td>8</td>\n",
       "      <td>25.375000</td>\n",
       "    </tr>\n",
       "    <tr>\n",
       "      <th>BrandEnlightened</th>\n",
       "      <td>426</td>\n",
       "      <td>20</td>\n",
       "      <td>21.300000</td>\n",
       "    </tr>\n",
       "    <tr>\n",
       "      <th>QuatreBarton</th>\n",
       "      <td>336</td>\n",
       "      <td>16</td>\n",
       "      <td>21.000000</td>\n",
       "    </tr>\n",
       "    <tr>\n",
       "      <th>cragfar</th>\n",
       "      <td>747</td>\n",
       "      <td>36</td>\n",
       "      <td>20.750000</td>\n",
       "    </tr>\n",
       "    <tr>\n",
       "      <th>quickquestionandaway</th>\n",
       "      <td>185</td>\n",
       "      <td>9</td>\n",
       "      <td>20.555556</td>\n",
       "    </tr>\n",
       "    <tr>\n",
       "      <th>BubuX</th>\n",
       "      <td>491</td>\n",
       "      <td>24</td>\n",
       "      <td>20.458333</td>\n",
       "    </tr>\n",
       "    <tr>\n",
       "      <th>fullforce098</th>\n",
       "      <td>999</td>\n",
       "      <td>55</td>\n",
       "      <td>18.163636</td>\n",
       "    </tr>\n",
       "    <tr>\n",
       "      <th>Lurch98</th>\n",
       "      <td>521</td>\n",
       "      <td>29</td>\n",
       "      <td>17.965517</td>\n",
       "    </tr>\n",
       "    <tr>\n",
       "      <th>Sumo148</th>\n",
       "      <td>983</td>\n",
       "      <td>55</td>\n",
       "      <td>17.872727</td>\n",
       "    </tr>\n",
       "    <tr>\n",
       "      <th>CarnationsPls</th>\n",
       "      <td>356</td>\n",
       "      <td>20</td>\n",
       "      <td>17.800000</td>\n",
       "    </tr>\n",
       "    <tr>\n",
       "      <th>BasedOnAir</th>\n",
       "      <td>188</td>\n",
       "      <td>11</td>\n",
       "      <td>17.090909</td>\n",
       "    </tr>\n",
       "    <tr>\n",
       "      <th>FoffFer</th>\n",
       "      <td>84</td>\n",
       "      <td>5</td>\n",
       "      <td>16.800000</td>\n",
       "    </tr>\n",
       "    <tr>\n",
       "      <th>junkyardmessiah</th>\n",
       "      <td>997</td>\n",
       "      <td>64</td>\n",
       "      <td>15.578125</td>\n",
       "    </tr>\n",
       "    <tr>\n",
       "      <th>W00ster</th>\n",
       "      <td>991</td>\n",
       "      <td>64</td>\n",
       "      <td>15.484375</td>\n",
       "    </tr>\n",
       "    <tr>\n",
       "      <th>Pluckyducky01</th>\n",
       "      <td>999</td>\n",
       "      <td>65</td>\n",
       "      <td>15.369231</td>\n",
       "    </tr>\n",
       "    <tr>\n",
       "      <th>pipinngreppin</th>\n",
       "      <td>811</td>\n",
       "      <td>53</td>\n",
       "      <td>15.301887</td>\n",
       "    </tr>\n",
       "    <tr>\n",
       "      <th>VideoGameLover</th>\n",
       "      <td>998</td>\n",
       "      <td>67</td>\n",
       "      <td>14.895522</td>\n",
       "    </tr>\n",
       "    <tr>\n",
       "      <th>Kiraskakas</th>\n",
       "      <td>641</td>\n",
       "      <td>48</td>\n",
       "      <td>13.354167</td>\n",
       "    </tr>\n",
       "    <tr>\n",
       "      <th>IdleWorker87</th>\n",
       "      <td>279</td>\n",
       "      <td>21</td>\n",
       "      <td>13.285714</td>\n",
       "    </tr>\n",
       "    <tr>\n",
       "      <th>EUpls</th>\n",
       "      <td>344</td>\n",
       "      <td>26</td>\n",
       "      <td>13.230769</td>\n",
       "    </tr>\n",
       "    <tr>\n",
       "      <th>Shackmeoff</th>\n",
       "      <td>523</td>\n",
       "      <td>43</td>\n",
       "      <td>12.162791</td>\n",
       "    </tr>\n",
       "    <tr>\n",
       "      <th>spacedrgn</th>\n",
       "      <td>998</td>\n",
       "      <td>84</td>\n",
       "      <td>11.880952</td>\n",
       "    </tr>\n",
       "    <tr>\n",
       "      <th>TheIcePalace</th>\n",
       "      <td>589</td>\n",
       "      <td>50</td>\n",
       "      <td>11.780000</td>\n",
       "    </tr>\n",
       "    <tr>\n",
       "      <th>domeoldboys</th>\n",
       "      <td>999</td>\n",
       "      <td>85</td>\n",
       "      <td>11.752941</td>\n",
       "    </tr>\n",
       "    <tr>\n",
       "      <th>IrishDon</th>\n",
       "      <td>993</td>\n",
       "      <td>87</td>\n",
       "      <td>11.413793</td>\n",
       "    </tr>\n",
       "    <tr>\n",
       "      <th>Dockhead</th>\n",
       "      <td>199</td>\n",
       "      <td>18</td>\n",
       "      <td>11.055556</td>\n",
       "    </tr>\n",
       "    <tr>\n",
       "      <th>...</th>\n",
       "      <td>...</td>\n",
       "      <td>...</td>\n",
       "      <td>...</td>\n",
       "    </tr>\n",
       "    <tr>\n",
       "      <th>sunilahrodiya</th>\n",
       "      <td>11</td>\n",
       "      <td>3</td>\n",
       "      <td>3.666667</td>\n",
       "    </tr>\n",
       "    <tr>\n",
       "      <th>thenextgamer87</th>\n",
       "      <td>72</td>\n",
       "      <td>20</td>\n",
       "      <td>3.600000</td>\n",
       "    </tr>\n",
       "    <tr>\n",
       "      <th>TrueEclective</th>\n",
       "      <td>92</td>\n",
       "      <td>26</td>\n",
       "      <td>3.538462</td>\n",
       "    </tr>\n",
       "    <tr>\n",
       "      <th>GiantQuokka</th>\n",
       "      <td>96</td>\n",
       "      <td>28</td>\n",
       "      <td>3.428571</td>\n",
       "    </tr>\n",
       "    <tr>\n",
       "      <th>ICanHearYouHavingSex</th>\n",
       "      <td>216</td>\n",
       "      <td>64</td>\n",
       "      <td>3.375000</td>\n",
       "    </tr>\n",
       "    <tr>\n",
       "      <th>fissman1</th>\n",
       "      <td>10</td>\n",
       "      <td>3</td>\n",
       "      <td>3.333333</td>\n",
       "    </tr>\n",
       "    <tr>\n",
       "      <th>clemmmmmmm</th>\n",
       "      <td>58</td>\n",
       "      <td>18</td>\n",
       "      <td>3.222222</td>\n",
       "    </tr>\n",
       "    <tr>\n",
       "      <th>HeyitsmeyourOP</th>\n",
       "      <td>96</td>\n",
       "      <td>30</td>\n",
       "      <td>3.200000</td>\n",
       "    </tr>\n",
       "    <tr>\n",
       "      <th>iamthehackeranon</th>\n",
       "      <td>173</td>\n",
       "      <td>55</td>\n",
       "      <td>3.145455</td>\n",
       "    </tr>\n",
       "    <tr>\n",
       "      <th>Idontstandout</th>\n",
       "      <td>82</td>\n",
       "      <td>27</td>\n",
       "      <td>3.037037</td>\n",
       "    </tr>\n",
       "    <tr>\n",
       "      <th>s_random</th>\n",
       "      <td>60</td>\n",
       "      <td>20</td>\n",
       "      <td>3.000000</td>\n",
       "    </tr>\n",
       "    <tr>\n",
       "      <th>intercitty</th>\n",
       "      <td>72</td>\n",
       "      <td>24</td>\n",
       "      <td>3.000000</td>\n",
       "    </tr>\n",
       "    <tr>\n",
       "      <th>gaiusmalleusmolva</th>\n",
       "      <td>34</td>\n",
       "      <td>12</td>\n",
       "      <td>2.833333</td>\n",
       "    </tr>\n",
       "    <tr>\n",
       "      <th>justanotherhipsterr</th>\n",
       "      <td>82</td>\n",
       "      <td>29</td>\n",
       "      <td>2.827586</td>\n",
       "    </tr>\n",
       "    <tr>\n",
       "      <th>thelonghauls</th>\n",
       "      <td>98</td>\n",
       "      <td>36</td>\n",
       "      <td>2.722222</td>\n",
       "    </tr>\n",
       "    <tr>\n",
       "      <th>HoldMeTight_</th>\n",
       "      <td>59</td>\n",
       "      <td>23</td>\n",
       "      <td>2.565217</td>\n",
       "    </tr>\n",
       "    <tr>\n",
       "      <th>mnlfdsjaiofdsuaio</th>\n",
       "      <td>140</td>\n",
       "      <td>55</td>\n",
       "      <td>2.545455</td>\n",
       "    </tr>\n",
       "    <tr>\n",
       "      <th>nineinchdeafheaven</th>\n",
       "      <td>30</td>\n",
       "      <td>12</td>\n",
       "      <td>2.500000</td>\n",
       "    </tr>\n",
       "    <tr>\n",
       "      <th>teknologisk</th>\n",
       "      <td>69</td>\n",
       "      <td>29</td>\n",
       "      <td>2.379310</td>\n",
       "    </tr>\n",
       "    <tr>\n",
       "      <th>proteinbased</th>\n",
       "      <td>84</td>\n",
       "      <td>37</td>\n",
       "      <td>2.270270</td>\n",
       "    </tr>\n",
       "    <tr>\n",
       "      <th>thelastbongo</th>\n",
       "      <td>21</td>\n",
       "      <td>10</td>\n",
       "      <td>2.100000</td>\n",
       "    </tr>\n",
       "    <tr>\n",
       "      <th>xkcd_transcriber</th>\n",
       "      <td>994</td>\n",
       "      <td>496</td>\n",
       "      <td>2.004032</td>\n",
       "    </tr>\n",
       "    <tr>\n",
       "      <th>serruriers</th>\n",
       "      <td>32</td>\n",
       "      <td>16</td>\n",
       "      <td>2.000000</td>\n",
       "    </tr>\n",
       "    <tr>\n",
       "      <th>warlocksongs</th>\n",
       "      <td>22</td>\n",
       "      <td>11</td>\n",
       "      <td>2.000000</td>\n",
       "    </tr>\n",
       "    <tr>\n",
       "      <th>BrutallyHonestDude</th>\n",
       "      <td>36</td>\n",
       "      <td>19</td>\n",
       "      <td>1.894737</td>\n",
       "    </tr>\n",
       "    <tr>\n",
       "      <th>TrevinoDuende</th>\n",
       "      <td>24</td>\n",
       "      <td>13</td>\n",
       "      <td>1.846154</td>\n",
       "    </tr>\n",
       "    <tr>\n",
       "      <th>RedditViking34</th>\n",
       "      <td>34</td>\n",
       "      <td>19</td>\n",
       "      <td>1.789474</td>\n",
       "    </tr>\n",
       "    <tr>\n",
       "      <th>Happy_Salt_Merchant</th>\n",
       "      <td>25</td>\n",
       "      <td>14</td>\n",
       "      <td>1.785714</td>\n",
       "    </tr>\n",
       "    <tr>\n",
       "      <th>rkmara</th>\n",
       "      <td>20</td>\n",
       "      <td>12</td>\n",
       "      <td>1.666667</td>\n",
       "    </tr>\n",
       "    <tr>\n",
       "      <th>iamtryingtobreakyou</th>\n",
       "      <td>129</td>\n",
       "      <td>91</td>\n",
       "      <td>1.417582</td>\n",
       "    </tr>\n",
       "  </tbody>\n",
       "</table>\n",
       "<p>120 rows × 3 columns</p>\n",
       "</div>"
      ],
      "text/plain": [
       "                      comments  unique_subs  nb_comments_per_sub\n",
       "username                                                        \n",
       "mr_fn_wonderful            999           21            47.571429\n",
       "The_seph_i_am              986           32            30.812500\n",
       "laserbong                  804           29            27.724138\n",
       "daze6                      155            6            25.833333\n",
       "Drums_And_Dreams           203            8            25.375000\n",
       "BrandEnlightened           426           20            21.300000\n",
       "QuatreBarton               336           16            21.000000\n",
       "cragfar                    747           36            20.750000\n",
       "quickquestionandaway       185            9            20.555556\n",
       "BubuX                      491           24            20.458333\n",
       "fullforce098               999           55            18.163636\n",
       "Lurch98                    521           29            17.965517\n",
       "Sumo148                    983           55            17.872727\n",
       "CarnationsPls              356           20            17.800000\n",
       "BasedOnAir                 188           11            17.090909\n",
       "FoffFer                     84            5            16.800000\n",
       "junkyardmessiah            997           64            15.578125\n",
       "W00ster                    991           64            15.484375\n",
       "Pluckyducky01              999           65            15.369231\n",
       "pipinngreppin              811           53            15.301887\n",
       "VideoGameLover             998           67            14.895522\n",
       "Kiraskakas                 641           48            13.354167\n",
       "IdleWorker87               279           21            13.285714\n",
       "EUpls                      344           26            13.230769\n",
       "Shackmeoff                 523           43            12.162791\n",
       "spacedrgn                  998           84            11.880952\n",
       "TheIcePalace               589           50            11.780000\n",
       "domeoldboys                999           85            11.752941\n",
       "IrishDon                   993           87            11.413793\n",
       "Dockhead                   199           18            11.055556\n",
       "...                        ...          ...                  ...\n",
       "sunilahrodiya               11            3             3.666667\n",
       "thenextgamer87              72           20             3.600000\n",
       "TrueEclective               92           26             3.538462\n",
       "GiantQuokka                 96           28             3.428571\n",
       "ICanHearYouHavingSex       216           64             3.375000\n",
       "fissman1                    10            3             3.333333\n",
       "clemmmmmmm                  58           18             3.222222\n",
       "HeyitsmeyourOP              96           30             3.200000\n",
       "iamthehackeranon           173           55             3.145455\n",
       "Idontstandout               82           27             3.037037\n",
       "s_random                    60           20             3.000000\n",
       "intercitty                  72           24             3.000000\n",
       "gaiusmalleusmolva           34           12             2.833333\n",
       "justanotherhipsterr         82           29             2.827586\n",
       "thelonghauls                98           36             2.722222\n",
       "HoldMeTight_                59           23             2.565217\n",
       "mnlfdsjaiofdsuaio          140           55             2.545455\n",
       "nineinchdeafheaven          30           12             2.500000\n",
       "teknologisk                 69           29             2.379310\n",
       "proteinbased                84           37             2.270270\n",
       "thelastbongo                21           10             2.100000\n",
       "xkcd_transcriber           994          496             2.004032\n",
       "serruriers                  32           16             2.000000\n",
       "warlocksongs                22           11             2.000000\n",
       "BrutallyHonestDude          36           19             1.894737\n",
       "TrevinoDuende               24           13             1.846154\n",
       "RedditViking34              34           19             1.789474\n",
       "Happy_Salt_Merchant         25           14             1.785714\n",
       "rkmara                      20           12             1.666667\n",
       "iamtryingtobreakyou        129           91             1.417582\n",
       "\n",
       "[120 rows x 3 columns]"
      ]
     },
     "execution_count": 312,
     "metadata": {},
     "output_type": "execute_result"
    }
   ],
   "source": [
    "def custom_filter_active_redditors(df):\n",
    "    return df.loc[(df['unique_subs'] >= 10) | (df['nb_comments_per_sub'] >= 3)]\n",
    "\n",
    "\n",
    "(df.groupby('username')\n",
    "    .agg(\n",
    "        {'subreddit': [\n",
    "                        ('comments', lambda x: len(x)),\n",
    "                        ('unique_subs', lambda x: len(set(x)))\n",
    "                    ],\n",
    "        },    \n",
    "    )\n",
    "     .droplevel(axis='columns',level=0)\n",
    "     .assign(nb_comments_per_sub=lambda x: x['comments'] / x['unique_subs'])\n",
    "     .sort_values(by='nb_comments_per_sub', ascending=False)\n",
    "     .query('comments != 1000')\n",
    "     .pipe(custom_filter_active_redditors)\n",
    ") "
   ]
  },
  {
   "cell_type": "code",
   "execution_count": null,
   "metadata": {},
   "outputs": [],
   "source": []
  },
  {
   "cell_type": "code",
   "execution_count": null,
   "metadata": {},
   "outputs": [],
   "source": []
  },
  {
   "cell_type": "code",
   "execution_count": 249,
   "metadata": {},
   "outputs": [
    {
     "data": {
      "text/html": [
       "<div>\n",
       "<style scoped>\n",
       "    .dataframe tbody tr th:only-of-type {\n",
       "        vertical-align: middle;\n",
       "    }\n",
       "\n",
       "    .dataframe tbody tr th {\n",
       "        vertical-align: top;\n",
       "    }\n",
       "\n",
       "    .dataframe thead th {\n",
       "        text-align: right;\n",
       "    }\n",
       "</style>\n",
       "<table border=\"1\" class=\"dataframe\">\n",
       "  <thead>\n",
       "    <tr style=\"text-align: right;\">\n",
       "      <th></th>\n",
       "      <th>comments</th>\n",
       "      <th>unique_subs</th>\n",
       "      <th>comments_per_sub</th>\n",
       "    </tr>\n",
       "    <tr>\n",
       "      <th>username</th>\n",
       "      <th></th>\n",
       "      <th></th>\n",
       "      <th></th>\n",
       "    </tr>\n",
       "  </thead>\n",
       "  <tbody>\n",
       "    <tr>\n",
       "      <th>mr_fn_wonderful</th>\n",
       "      <td>999</td>\n",
       "      <td>21</td>\n",
       "      <td>47.571429</td>\n",
       "    </tr>\n",
       "    <tr>\n",
       "      <th>The_seph_i_am</th>\n",
       "      <td>986</td>\n",
       "      <td>32</td>\n",
       "      <td>30.812500</td>\n",
       "    </tr>\n",
       "    <tr>\n",
       "      <th>laserbong</th>\n",
       "      <td>804</td>\n",
       "      <td>29</td>\n",
       "      <td>27.724138</td>\n",
       "    </tr>\n",
       "    <tr>\n",
       "      <th>daze6</th>\n",
       "      <td>155</td>\n",
       "      <td>6</td>\n",
       "      <td>25.833333</td>\n",
       "    </tr>\n",
       "    <tr>\n",
       "      <th>Drums_And_Dreams</th>\n",
       "      <td>203</td>\n",
       "      <td>8</td>\n",
       "      <td>25.375000</td>\n",
       "    </tr>\n",
       "  </tbody>\n",
       "</table>\n",
       "</div>"
      ],
      "text/plain": [
       "                  comments  unique_subs  comments_per_sub\n",
       "username                                                 \n",
       "mr_fn_wonderful        999           21         47.571429\n",
       "The_seph_i_am          986           32         30.812500\n",
       "laserbong              804           29         27.724138\n",
       "daze6                  155            6         25.833333\n",
       "Drums_And_Dreams       203            8         25.375000"
      ]
     },
     "execution_count": 249,
     "metadata": {},
     "output_type": "execute_result"
    }
   ],
   "source": [
    "\n",
    "\n",
    "\n",
    "\n",
    "# 3. [harder but useful] Recompute the active redditors in a single expression\n",
    "\n",
    "# We use \"method chaining\" to avoid intermediate dataframes\n",
    "# Advantages:\n",
    "# 1. Avoids mistakes (easy to make errors when you reach df42)\n",
    "# 2. You can read all the logic step by step\n",
    "\n",
    "def custom_filter(df):\n",
    "    return df.loc[ (df['comments'] != 1000) & \n",
    "                    # note the use of brackets to isolate the OR expression\n",
    "                   ((df['unique_subs'] >= 10) | (df['comments_per_sub'] >= 3))  \n",
    "                  ]    \n",
    "    \n",
    "\n",
    "active_redditors = \\\n",
    "(df.groupby('username')\n",
    "   .agg({'subreddit': [('comments', 'count'),\n",
    "                       ('unique_subs', lambda x: len(set(x))),\n",
    "                      ]\n",
    "        })\n",
    "    .droplevel(axis='columns', level=0)\n",
    "    .assign(comments_per_sub=lambda x: x['comments'] / x['unique_subs'])\n",
    "    .sort_values(by='comments_per_sub', ascending=False)\n",
    "    .pipe(custom_filter)\n",
    ")\n",
    "active_redditors.head()"
   ]
  },
  {
   "cell_type": "code",
   "execution_count": null,
   "metadata": {},
   "outputs": [],
   "source": []
  },
  {
   "cell_type": "code",
   "execution_count": 81,
   "metadata": {},
   "outputs": [
    {
     "data": {
      "text/html": [
       "<div>\n",
       "<style scoped>\n",
       "    .dataframe tbody tr th:only-of-type {\n",
       "        vertical-align: middle;\n",
       "    }\n",
       "\n",
       "    .dataframe tbody tr th {\n",
       "        vertical-align: top;\n",
       "    }\n",
       "\n",
       "    .dataframe thead th {\n",
       "        text-align: right;\n",
       "    }\n",
       "</style>\n",
       "<table border=\"1\" class=\"dataframe\">\n",
       "  <thead>\n",
       "    <tr style=\"text-align: right;\">\n",
       "      <th></th>\n",
       "      <th>username</th>\n",
       "    </tr>\n",
       "    <tr>\n",
       "      <th>subreddit</th>\n",
       "      <th></th>\n",
       "    </tr>\n",
       "  </thead>\n",
       "  <tbody>\n",
       "    <tr>\n",
       "      <th>AskReddit</th>\n",
       "      <td>141</td>\n",
       "    </tr>\n",
       "    <tr>\n",
       "      <th>news</th>\n",
       "      <td>127</td>\n",
       "    </tr>\n",
       "    <tr>\n",
       "      <th>pics</th>\n",
       "      <td>124</td>\n",
       "    </tr>\n",
       "    <tr>\n",
       "      <th>funny</th>\n",
       "      <td>122</td>\n",
       "    </tr>\n",
       "    <tr>\n",
       "      <th>todayilearned</th>\n",
       "      <td>122</td>\n",
       "    </tr>\n",
       "    <tr>\n",
       "      <th>worldnews</th>\n",
       "      <td>116</td>\n",
       "    </tr>\n",
       "    <tr>\n",
       "      <th>videos</th>\n",
       "      <td>108</td>\n",
       "    </tr>\n",
       "    <tr>\n",
       "      <th>gifs</th>\n",
       "      <td>105</td>\n",
       "    </tr>\n",
       "    <tr>\n",
       "      <th>GetMotivated</th>\n",
       "      <td>100</td>\n",
       "    </tr>\n",
       "    <tr>\n",
       "      <th>Showerthoughts</th>\n",
       "      <td>99</td>\n",
       "    </tr>\n",
       "  </tbody>\n",
       "</table>\n",
       "</div>"
      ],
      "text/plain": [
       "                username\n",
       "subreddit               \n",
       "AskReddit            141\n",
       "news                 127\n",
       "pics                 124\n",
       "funny                122\n",
       "todayilearned        122\n",
       "worldnews            116\n",
       "videos               108\n",
       "gifs                 105\n",
       "GetMotivated         100\n",
       "Showerthoughts        99"
      ]
     },
     "execution_count": 81,
     "metadata": {},
     "output_type": "execute_result"
    }
   ],
   "source": [
    "## Top 10 subreddit with most users\n",
    "df.groupby('subreddit').agg({'username': lambda x: len(set(x))}).sort_values(by='username', ascending=False).head(10)"
   ]
  },
  {
   "cell_type": "code",
   "execution_count": 170,
   "metadata": {},
   "outputs": [],
   "source": [
    "## 2: Unique subs of active redditors: q1/med/q3\n"
   ]
  },
  {
   "cell_type": "code",
   "execution_count": 171,
   "metadata": {},
   "outputs": [],
   "source": [
    "## 2. Comments of active redditors : : q1/med/q3\n"
   ]
  },
  {
   "cell_type": "code",
   "execution_count": 172,
   "metadata": {},
   "outputs": [],
   "source": [
    "## 3. subreddit with the most comment in one hour\n"
   ]
  },
  {
   "cell_type": "code",
   "execution_count": null,
   "metadata": {},
   "outputs": [],
   "source": []
  },
  {
   "cell_type": "code",
   "execution_count": null,
   "metadata": {},
   "outputs": [],
   "source": []
  },
  {
   "cell_type": "code",
   "execution_count": null,
   "metadata": {},
   "outputs": [],
   "source": []
  },
  {
   "cell_type": "code",
   "execution_count": 173,
   "metadata": {},
   "outputs": [],
   "source": [
    "# 5. [harder but useful] Recompute the active redditors in a single expression\n",
    "\n",
    "# We use \"method chaining\" to avoid intermediate dataframes\n",
    "# Advantages:\n",
    "# 1. Avoids mistakes (easy to make errors when you reach df42)\n",
    "# 2. You can read all the logic step by step\n",
    "\n"
   ]
  },
  {
   "cell_type": "code",
   "execution_count": null,
   "metadata": {},
   "outputs": [],
   "source": []
  },
  {
   "cell_type": "code",
   "execution_count": null,
   "metadata": {},
   "outputs": [],
   "source": []
  },
  {
   "cell_type": "markdown",
   "metadata": {},
   "source": [
    "# Solutions\n",
    "\n",
    "## Exercise 1\n",
    "\n",
    "1. Extract the hour of day (ie: 10 for a datetime of 2016-12-26 10:24:59) and assign it to a new column (\"hour_of_day\")\n",
    "2. Find the top 10 subreddits with the most users\n",
    "3. Find which hour of the day is one average, generating more comments"
   ]
  },
  {
   "cell_type": "code",
   "execution_count": null,
   "metadata": {},
   "outputs": [],
   "source": [
    "# 1.1: extract the hour of day\n",
    "def get_hour_of_day(elem):\n",
    "    return elem.hour\n",
    "                    \n",
    "df['hour_of_day'] = df['utc'].apply(get_hour_of_day)\n",
    "df.head()"
   ]
  },
  {
   "cell_type": "code",
   "execution_count": null,
   "metadata": {},
   "outputs": [],
   "source": [
    "# 1.2: find the top 10 subreddits with the most users\n",
    "df.groupby('subreddit').agg({'username': 'nunique'}).sort_values(by='username', ascending=False).head(10)"
   ]
  },
  {
   "cell_type": "code",
   "execution_count": null,
   "metadata": {},
   "outputs": [],
   "source": [
    "# 3. Find which hour of the day is one average, generating more comments\n",
    "df.groupby('hour_of_day').agg({'subreddit': 'count'}).sort_values(by='subreddit', ascending=False).head()"
   ]
  },
  {
   "cell_type": "markdown",
   "metadata": {},
   "source": [
    "## Exercise 2\n",
    "\n",
    "### Solution 2.A: using known syntax"
   ]
  },
  {
   "cell_type": "code",
   "execution_count": null,
   "metadata": {},
   "outputs": [],
   "source": [
    "def get_token(elem, token):\n",
    "    return token.lower() in elem.lower()\n",
    "\n",
    "# Create a dataframe containing only users with \"trump\" in their name\n",
    "df['trump_user'] = df['username'].apply(get_token, args=['trump'])\n",
    "df_trump = df.loc[df['trump_user'] == True]\n",
    "df_trump.head()"
   ]
  },
  {
   "cell_type": "code",
   "execution_count": null,
   "metadata": {},
   "outputs": [],
   "source": [
    "# creating the groupbys\n",
    "trump_agg = (df_trump.groupby('subreddit')\n",
    "         .agg({'username': [\n",
    "             ('nb_comments_by_trump', 'count'),\n",
    "             ('nb_user_w_trump', 'nunique')\n",
    "         ]})\n",
    ")\n",
    "trump_agg.head()"
   ]
  },
  {
   "cell_type": "code",
   "execution_count": null,
   "metadata": {},
   "outputs": [],
   "source": [
    "# cleaning and sorting\n",
    "final = trump_agg.droplevel(axis='columns', level=0)\n",
    "final.sort_values(by=f'nb_comments_by_trump', ascending=False).head(10)"
   ]
  },
  {
   "cell_type": "markdown",
   "metadata": {},
   "source": [
    "### Solution 2.B : a cleaner way"
   ]
  },
  {
   "cell_type": "code",
   "execution_count": null,
   "metadata": {},
   "outputs": [],
   "source": [
    "token = 'trump'\n",
    "mask = df['username'].str.contains(token, case=False)\n",
    "(df.loc[mask]\n",
    "    .groupby('subreddit')\n",
    "    .agg({'username': [\n",
    "            (f'nb_comments_by_{token}', 'count'),\n",
    "            (f'nb_users_w_{token}', 'nunique'),\n",
    "    ]\n",
    "         })\n",
    "     .droplevel(axis='columns', level=0)\n",
    "    .sort_values(by=f'nb_comments_by_{token}', ascending=False)\n",
    "    .head(10)\n",
    ")"
   ]
  },
  {
   "cell_type": "markdown",
   "metadata": {},
   "source": [
    "## Exercise 3\n",
    "\n",
    "1. For active redditors, find the median number of comments, the 25th and 75th percentile of unique_subs\n",
    "2. Find the subreddit with the most comments in one hour\n",
    "3. [harder but useful] Recompute the active redditors in a single expression\n"
   ]
  },
  {
   "cell_type": "code",
   "execution_count": null,
   "metadata": {},
   "outputs": [],
   "source": [
    "# 1. For active redditors, find the median number of comments, the 25th and 75th percentile of unique_subs\n",
    "median_comments = active_redditors['comments'].median()\n",
    "p25_subs = np.percentile(active_redditors['unique_subs'], 25)\n",
    "p75_subs = np.percentile(active_redditors['unique_subs'], 75)\n",
    "\n",
    "msg = f\"\"\"Here are the stats on active reddits:\n",
    "A. Comments per subredit:\n",
    "- mediam: {median_comments}\n",
    "B. Number of subreddits they subscribe to:\n",
    "- p25: {p25_comments}\n",
    "- p75: {p75_comments}\n",
    "\"\"\"\n",
    "\n",
    "print(msg)"
   ]
  },
  {
   "cell_type": "code",
   "execution_count": null,
   "metadata": {},
   "outputs": [],
   "source": [
    "# 2. Find the subreddit with the most comments in one hour\n",
    "def per_hour(elem: dt.datetime):\n",
    "    return f'{elem.date()}_{elem.hour}'\n",
    "\n",
    "df['per_hour'] = df['utc'].apply(per_hour)\n",
    "df.groupby(['per_hour', 'subreddit'])['username'].count().sort_values(ascending=False).head()"
   ]
  },
  {
   "cell_type": "code",
   "execution_count": null,
   "metadata": {},
   "outputs": [],
   "source": [
    "# 3. [harder but useful] Recompute the active redditors in a single expression\n",
    "\n",
    "# We use \"method chaining\" to avoid intermediate dataframes\n",
    "# Advantages:\n",
    "# 1. Avoids mistakes (easy to make errors when you reach df42)\n",
    "# 2. You can read all the logic step by step\n",
    "\n",
    "active_redditors = \\\n",
    "(df.groupby('username')\n",
    "   .agg({'subreddit': [('comments', 'count'),\n",
    "                       ('unique_subs', lambda x: len(set(x))),\n",
    "                      ]\n",
    "        })\n",
    "    .droplevel(axis='columns', level=0)\n",
    "    .assign(comments_per_sub=lambda x: x['comments'] / x['unique_subs'])\n",
    "    .sort_values(by='comments_per_sub', ascending=False)\n",
    "    .query('comments < 1000')\n",
    "    .query('unique_subs >= 10')\n",
    "    .query('comments_per_sub >= 3') \n",
    ")\n",
    "active_redditors.head()"
   ]
  }
 ],
 "metadata": {
  "celltoolbar": "Slideshow",
  "kernelspec": {
   "display_name": "Python 3",
   "language": "python",
   "name": "python3"
  },
  "language_info": {
   "codemirror_mode": {
    "name": "ipython",
    "version": 3
   },
   "file_extension": ".py",
   "mimetype": "text/x-python",
   "name": "python",
   "nbconvert_exporter": "python",
   "pygments_lexer": "ipython3",
   "version": "3.7.3"
  }
 },
 "nbformat": 4,
 "nbformat_minor": 4
}
