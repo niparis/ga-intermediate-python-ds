{
 "cells": [
  {
   "cell_type": "markdown",
   "metadata": {
    "slideshow": {
     "slide_type": "slide"
    }
   },
   "source": [
    "# Introduction to Pandas (reddit)\n"
   ]
  },
  {
   "cell_type": "markdown",
   "metadata": {
    "slideshow": {
     "slide_type": "subslide"
    }
   },
   "source": [
    "Full dataset at:\n",
    "\n",
    "https://www.kaggle.com/colemaclean/subreddit-interactions\n",
    "\n",
    "### Note about the dataset: each line represents ONE COMMENT"
   ]
  },
  {
   "cell_type": "markdown",
   "metadata": {
    "slideshow": {
     "slide_type": "slide"
    }
   },
   "source": [
    "## Why Pandas\n",
    "\n",
    "1. Very familiar interface / data model (Table / Excel)\n",
    "2. Query data very interactively (once the data is loaded in your notebook, instant answer)\n",
    "3. Complete freedom in creating custom code\n",
    "\n",
    "GOOD TO KNOW\n",
    "- Pandas is a massive library. Even after this class, there'll be a lot of things you won't know from pandas. Use the doc !\n"
   ]
  },
  {
   "cell_type": "code",
   "execution_count": 1,
   "metadata": {},
   "outputs": [],
   "source": [
    "import pandas as pd\n",
    "import numpy as np\n",
    "import matplotlib.pyplot as plt\n",
    "import datetime as dt\n",
    "%matplotlib inline\n",
    "\n",
    "df = pd.read_csv('https://raw.githubusercontent.com/niparis/ga-intermediate-python-ds/master/datasets/reddit_100k.csv')"
   ]
  },
  {
   "cell_type": "markdown",
   "metadata": {},
   "source": [
    "### Having a look at the data\n",
    "\n",
    "head is a `method` of DataFrame objects. It is called by using the brackets.\n",
    "\n",
    "head is equivalent to the SQL expression \"LIMIT 5\""
   ]
  },
  {
   "cell_type": "code",
   "execution_count": 2,
   "metadata": {},
   "outputs": [
    {
     "data": {
      "text/html": [
       "<div>\n",
       "<style scoped>\n",
       "    .dataframe tbody tr th:only-of-type {\n",
       "        vertical-align: middle;\n",
       "    }\n",
       "\n",
       "    .dataframe tbody tr th {\n",
       "        vertical-align: top;\n",
       "    }\n",
       "\n",
       "    .dataframe thead th {\n",
       "        text-align: right;\n",
       "    }\n",
       "</style>\n",
       "<table border=\"1\" class=\"dataframe\">\n",
       "  <thead>\n",
       "    <tr style=\"text-align: right;\">\n",
       "      <th></th>\n",
       "      <th>username</th>\n",
       "      <th>subreddit</th>\n",
       "      <th>utc</th>\n",
       "    </tr>\n",
       "  </thead>\n",
       "  <tbody>\n",
       "    <tr>\n",
       "      <th>0</th>\n",
       "      <td>kabanossi</td>\n",
       "      <td>photoshopbattles</td>\n",
       "      <td>1.482748e+09</td>\n",
       "    </tr>\n",
       "    <tr>\n",
       "      <th>1</th>\n",
       "      <td>kabanossi</td>\n",
       "      <td>GetMotivated</td>\n",
       "      <td>1.482748e+09</td>\n",
       "    </tr>\n",
       "    <tr>\n",
       "      <th>2</th>\n",
       "      <td>kabanossi</td>\n",
       "      <td>vmware</td>\n",
       "      <td>1.482748e+09</td>\n",
       "    </tr>\n",
       "    <tr>\n",
       "      <th>3</th>\n",
       "      <td>kabanossi</td>\n",
       "      <td>carporn</td>\n",
       "      <td>1.482748e+09</td>\n",
       "    </tr>\n",
       "    <tr>\n",
       "      <th>4</th>\n",
       "      <td>kabanossi</td>\n",
       "      <td>DIY</td>\n",
       "      <td>1.482747e+09</td>\n",
       "    </tr>\n",
       "  </tbody>\n",
       "</table>\n",
       "</div>"
      ],
      "text/plain": [
       "    username         subreddit           utc\n",
       "0  kabanossi  photoshopbattles  1.482748e+09\n",
       "1  kabanossi      GetMotivated  1.482748e+09\n",
       "2  kabanossi            vmware  1.482748e+09\n",
       "3  kabanossi           carporn  1.482748e+09\n",
       "4  kabanossi               DIY  1.482747e+09"
      ]
     },
     "execution_count": 2,
     "metadata": {},
     "output_type": "execute_result"
    }
   ],
   "source": [
    "df.head()"
   ]
  },
  {
   "cell_type": "markdown",
   "metadata": {},
   "source": [
    "We can pass a `parameter` to the `method` head. \n",
    "\n",
    "That's how we can control how many lines of the DataFrame `head` will display"
   ]
  },
  {
   "cell_type": "code",
   "execution_count": 20,
   "metadata": {},
   "outputs": [
    {
     "data": {
      "text/html": [
       "<div>\n",
       "<style scoped>\n",
       "    .dataframe tbody tr th:only-of-type {\n",
       "        vertical-align: middle;\n",
       "    }\n",
       "\n",
       "    .dataframe tbody tr th {\n",
       "        vertical-align: top;\n",
       "    }\n",
       "\n",
       "    .dataframe thead th {\n",
       "        text-align: right;\n",
       "    }\n",
       "</style>\n",
       "<table border=\"1\" class=\"dataframe\">\n",
       "  <thead>\n",
       "    <tr style=\"text-align: right;\">\n",
       "      <th></th>\n",
       "      <th>username</th>\n",
       "      <th>subreddit</th>\n",
       "      <th>utc</th>\n",
       "    </tr>\n",
       "  </thead>\n",
       "  <tbody>\n",
       "    <tr>\n",
       "      <th>0</th>\n",
       "      <td>kabanossi</td>\n",
       "      <td>photoshopbattles</td>\n",
       "      <td>1.482748e+09</td>\n",
       "    </tr>\n",
       "    <tr>\n",
       "      <th>1</th>\n",
       "      <td>kabanossi</td>\n",
       "      <td>GetMotivated</td>\n",
       "      <td>1.482748e+09</td>\n",
       "    </tr>\n",
       "  </tbody>\n",
       "</table>\n",
       "</div>"
      ],
      "text/plain": [
       "    username         subreddit           utc\n",
       "0  kabanossi  photoshopbattles  1.482748e+09\n",
       "1  kabanossi      GetMotivated  1.482748e+09"
      ]
     },
     "execution_count": 20,
     "metadata": {},
     "output_type": "execute_result"
    }
   ],
   "source": [
    "# example with the parameter 2\n",
    "df.head(2)"
   ]
  },
  {
   "cell_type": "markdown",
   "metadata": {},
   "source": [
    "### Let's start we some simple data cleaning\n",
    "\n",
    "The utc timestamp is a EPOCH timestamp in seconds\n",
    "\n",
    "Fortunately pandas has a built-in function to transform it to a more usable *datetime* object: `pd.to_datetime`"
   ]
  },
  {
   "cell_type": "code",
   "execution_count": 5,
   "metadata": {},
   "outputs": [],
   "source": [
    "# cleaning the utc timestamp: a typical \"data cleaning\" operation\n",
    "# the result from the expression on the right of the = is *assigned* to the left expression\n",
    "# df['utc'] means \"selecting the column utc from the dataframe df\"\n",
    "df['utc'] = pd.to_datetime(df['utc'],unit='s')"
   ]
  },
  {
   "cell_type": "code",
   "execution_count": 22,
   "metadata": {},
   "outputs": [
    {
     "data": {
      "text/html": [
       "<div>\n",
       "<style scoped>\n",
       "    .dataframe tbody tr th:only-of-type {\n",
       "        vertical-align: middle;\n",
       "    }\n",
       "\n",
       "    .dataframe tbody tr th {\n",
       "        vertical-align: top;\n",
       "    }\n",
       "\n",
       "    .dataframe thead th {\n",
       "        text-align: right;\n",
       "    }\n",
       "</style>\n",
       "<table border=\"1\" class=\"dataframe\">\n",
       "  <thead>\n",
       "    <tr style=\"text-align: right;\">\n",
       "      <th></th>\n",
       "      <th>username</th>\n",
       "      <th>subreddit</th>\n",
       "      <th>utc</th>\n",
       "    </tr>\n",
       "  </thead>\n",
       "  <tbody>\n",
       "    <tr>\n",
       "      <th>0</th>\n",
       "      <td>kabanossi</td>\n",
       "      <td>photoshopbattles</td>\n",
       "      <td>2016-12-26 10:24:59</td>\n",
       "    </tr>\n",
       "    <tr>\n",
       "      <th>1</th>\n",
       "      <td>kabanossi</td>\n",
       "      <td>GetMotivated</td>\n",
       "      <td>2016-12-26 10:23:14</td>\n",
       "    </tr>\n",
       "    <tr>\n",
       "      <th>2</th>\n",
       "      <td>kabanossi</td>\n",
       "      <td>vmware</td>\n",
       "      <td>2016-12-26 10:21:16</td>\n",
       "    </tr>\n",
       "    <tr>\n",
       "      <th>3</th>\n",
       "      <td>kabanossi</td>\n",
       "      <td>carporn</td>\n",
       "      <td>2016-12-26 10:20:18</td>\n",
       "    </tr>\n",
       "    <tr>\n",
       "      <th>4</th>\n",
       "      <td>kabanossi</td>\n",
       "      <td>DIY</td>\n",
       "      <td>2016-12-26 10:17:59</td>\n",
       "    </tr>\n",
       "  </tbody>\n",
       "</table>\n",
       "</div>"
      ],
      "text/plain": [
       "    username         subreddit                 utc\n",
       "0  kabanossi  photoshopbattles 2016-12-26 10:24:59\n",
       "1  kabanossi      GetMotivated 2016-12-26 10:23:14\n",
       "2  kabanossi            vmware 2016-12-26 10:21:16\n",
       "3  kabanossi           carporn 2016-12-26 10:20:18\n",
       "4  kabanossi               DIY 2016-12-26 10:17:59"
      ]
     },
     "execution_count": 22,
     "metadata": {},
     "output_type": "execute_result"
    }
   ],
   "source": [
    "df.head()"
   ]
  },
  {
   "cell_type": "markdown",
   "metadata": {},
   "source": [
    "### Let's create a new column containing only the date\n",
    "\n",
    "We might need to have access to the date without the time information. \n",
    "\n",
    "It will let us aggregate the reddit data by day, to create for instance a daily timeline.\n",
    "\n",
    "For this, we're going to use the `apply` DataFrame method. This is a very handy function that lets us modify a column in any way we want. To use it, first need to create a function that will be called on each element (or cell) of the column we want to transform.\n",
    "\n",
    "In our case, we want to transform a `datetime` object into a `date` object, so we can write the following function:"
   ]
  },
  {
   "cell_type": "code",
   "execution_count": 3,
   "metadata": {},
   "outputs": [],
   "source": [
    "def transform_to_date(elem: dt.datetime):\n",
    "    # extract the date from a datetime. \n",
    "    # date is a method of the datetime object, that's why it has to be called with `()`\n",
    "    return elem.date()"
   ]
  },
  {
   "cell_type": "code",
   "execution_count": 29,
   "metadata": {},
   "outputs": [],
   "source": [
    "def transform_to_date_wrong(elem: dt.datetime):\n",
    "    # this does no work, it just create an uncalled function\n",
    "    return elem.date"
   ]
  },
  {
   "cell_type": "markdown",
   "metadata": {},
   "source": [
    "Then we can apply the `transform_to_date` function to the utc column, and assign the result to a new column called `date`"
   ]
  },
  {
   "cell_type": "code",
   "execution_count": 6,
   "metadata": {},
   "outputs": [
    {
     "data": {
      "text/html": [
       "<div>\n",
       "<style scoped>\n",
       "    .dataframe tbody tr th:only-of-type {\n",
       "        vertical-align: middle;\n",
       "    }\n",
       "\n",
       "    .dataframe tbody tr th {\n",
       "        vertical-align: top;\n",
       "    }\n",
       "\n",
       "    .dataframe thead th {\n",
       "        text-align: right;\n",
       "    }\n",
       "</style>\n",
       "<table border=\"1\" class=\"dataframe\">\n",
       "  <thead>\n",
       "    <tr style=\"text-align: right;\">\n",
       "      <th></th>\n",
       "      <th>username</th>\n",
       "      <th>subreddit</th>\n",
       "      <th>utc</th>\n",
       "      <th>date</th>\n",
       "    </tr>\n",
       "  </thead>\n",
       "  <tbody>\n",
       "    <tr>\n",
       "      <th>0</th>\n",
       "      <td>kabanossi</td>\n",
       "      <td>photoshopbattles</td>\n",
       "      <td>2016-12-26 10:24:59</td>\n",
       "      <td>2016-12-26</td>\n",
       "    </tr>\n",
       "    <tr>\n",
       "      <th>1</th>\n",
       "      <td>kabanossi</td>\n",
       "      <td>GetMotivated</td>\n",
       "      <td>2016-12-26 10:23:14</td>\n",
       "      <td>2016-12-26</td>\n",
       "    </tr>\n",
       "  </tbody>\n",
       "</table>\n",
       "</div>"
      ],
      "text/plain": [
       "    username         subreddit                 utc        date\n",
       "0  kabanossi  photoshopbattles 2016-12-26 10:24:59  2016-12-26\n",
       "1  kabanossi      GetMotivated 2016-12-26 10:23:14  2016-12-26"
      ]
     },
     "execution_count": 6,
     "metadata": {},
     "output_type": "execute_result"
    }
   ],
   "source": [
    "df['date'] = df['utc'].apply(transform_to_date)\n",
    "df.head(2)"
   ]
  },
  {
   "cell_type": "markdown",
   "metadata": {},
   "source": [
    "Another example: week of year.\n",
    "    \n",
    "We create another function, apply it to the same `utc` column, and assign the result to a new column called `week_of_year`"
   ]
  },
  {
   "cell_type": "code",
   "execution_count": 16,
   "metadata": {},
   "outputs": [],
   "source": [
    "def get_week_of_year(elem: dt.date):\n",
    "    # weekofyear is an `attribute` from the pandas timestamp object (which is why it doesnt have to be called with `()`)\n",
    "    return elem.weekofyear\n",
    "\n",
    "df['week_of_year'] = df['utc'].apply(get_week_of_year)"
   ]
  },
  {
   "cell_type": "markdown",
   "metadata": {},
   "source": [
    "## Group By\n",
    "\n",
    "Pandas `groupby` is a powerful to perform aggregations on pandas DataFrames. It works very similarly to the SQL `GROUP BY` clause, with the added benefit of being able to define any custom aggregation function in python.\n",
    "\n",
    "Let's start with a very simple aggregation: finding the number of comments per user.\n",
    "\n",
    "Here's the logic of the groupby:\n",
    "1. The argument of the `groupby` function (here: 'username') will be reduced to unique elements\n",
    "\n",
    "```\n",
    "df.groupby('username')\n",
    "```\n",
    "2. Then we select on which column we want to perform our aggregation. In our case, we want a count of comments, so any column will do:\n",
    "\n",
    "```\n",
    "df.groupby('username')['subreddit']\n",
    "```\n",
    "\n",
    "3. Finally, we select the aggregation method - in our case, a count:\n",
    "\n",
    "```\n",
    "df.groupby('username')['subreddit'].count()\n",
    "```\n",
    "\n",
    "In english, this reads:\n",
    "\n",
    "*For each username, let's count the number of rows.*"
   ]
  },
  {
   "cell_type": "code",
   "execution_count": 31,
   "metadata": {},
   "outputs": [
    {
     "data": {
      "text/plain": [
       "username\n",
       "Spyrothedragon9972    1000\n",
       "PumpTrump             1000\n",
       "SidDriver             1000\n",
       "bruux                 1000\n",
       "Steel_Wool_Sponge     1000\n",
       "SweelFor              1000\n",
       "TalosThoren           1000\n",
       "jackcalx              1000\n",
       "TeslaAddict           1000\n",
       "Tethalamin            1000\n",
       "Name: subreddit, dtype: int64"
      ]
     },
     "execution_count": 31,
     "metadata": {},
     "output_type": "execute_result"
    }
   ],
   "source": [
    "# a typical groupby operation. Here we're adding sort_values and head methods to display the results nicely\n",
    "df.groupby('username')['subreddit'].count().sort_values(ascending=False).head(10)\n"
   ]
  },
  {
   "cell_type": "markdown",
   "metadata": {},
   "source": [
    "#### Unique subreddits by username\n",
    "\n",
    "We can reuse the same syntax, just changing the aggregation method"
   ]
  },
  {
   "cell_type": "code",
   "execution_count": 33,
   "metadata": {},
   "outputs": [
    {
     "data": {
      "text/plain": [
       "username\n",
       "xkcd_transcriber    496\n",
       "Exuberant_Murica    188\n",
       "kabanossi           187\n",
       "Hcfielden           182\n",
       "bigbuddha999        164\n",
       "ZoomJet             154\n",
       "fauxhb              154\n",
       "bob-leblaw          142\n",
       "gm4                 139\n",
       "not_for_porns       127\n",
       "Name: subreddit, dtype: int64"
      ]
     },
     "execution_count": 33,
     "metadata": {},
     "output_type": "execute_result"
    }
   ],
   "source": [
    "# How many unique subreddits per user\n",
    "# in english: For each username, how many unique records can we find in the \"subreddit\" column\n",
    "df.groupby('username')['subreddit'].nunique().sort_values(ascending=False).head(10)\n"
   ]
  },
  {
   "cell_type": "markdown",
   "metadata": {},
   "source": [
    "## Exercise 1\n",
    "\n",
    "1. Extract the hour of day (ie: 10 for a datetime of 2016-12-26 10:24:59) and assign it to a new column (\"hour_of_day\")\n",
    "2. Find the top 10 subreddits with the most users\n",
    "3. Find which hour of the day is one average, generating more comments"
   ]
  },
  {
   "cell_type": "code",
   "execution_count": 122,
   "metadata": {},
   "outputs": [],
   "source": [
    "## exercise code goes here\n",
    "\n",
    "\n",
    "\n",
    "\n",
    "\n",
    "##"
   ]
  },
  {
   "cell_type": "markdown",
   "metadata": {},
   "source": [
    "#### A more powerful syntax\n",
    "\n",
    "pandas practitioners like to use the `.agg` method - it provides several benefits compared to the default syntax:\n",
    "- Perform several aggregations on the same column\n",
    "- Define the name of the results column\n",
    "- Use standard python code rather than specific pandas functions\n"
   ]
  },
  {
   "cell_type": "code",
   "execution_count": 46,
   "metadata": {},
   "outputs": [
    {
     "data": {
      "text/plain": [
       "username\n",
       "-goodguygeorge    106\n",
       "01is               44\n",
       "0mn17h3047         25\n",
       "414D59             17\n",
       "AbulaShabula       33\n",
       "Name: subreddit, dtype: int64"
      ]
     },
     "execution_count": 46,
     "metadata": {},
     "output_type": "execute_result"
    }
   ],
   "source": [
    "# Unique subreddits by username - as seen above\n",
    "v0 = df.groupby('username')['subreddit'].nunique()\n",
    "v0.head()"
   ]
  },
  {
   "cell_type": "markdown",
   "metadata": {},
   "source": [
    "#### The .agg function:\n",
    "\n",
    "Using the `.agg` function: the argument of `.agg` is a _dictionary_ where the *keys* are the columns to aggregate on, \n",
    "and the values are the functions.\n"
   ]
  },
  {
   "cell_type": "code",
   "execution_count": 47,
   "metadata": {},
   "outputs": [
    {
     "data": {
      "text/html": [
       "<div>\n",
       "<style scoped>\n",
       "    .dataframe tbody tr th:only-of-type {\n",
       "        vertical-align: middle;\n",
       "    }\n",
       "\n",
       "    .dataframe tbody tr th {\n",
       "        vertical-align: top;\n",
       "    }\n",
       "\n",
       "    .dataframe thead th {\n",
       "        text-align: right;\n",
       "    }\n",
       "</style>\n",
       "<table border=\"1\" class=\"dataframe\">\n",
       "  <thead>\n",
       "    <tr style=\"text-align: right;\">\n",
       "      <th></th>\n",
       "      <th>subreddit</th>\n",
       "    </tr>\n",
       "    <tr>\n",
       "      <th>username</th>\n",
       "      <th></th>\n",
       "    </tr>\n",
       "  </thead>\n",
       "  <tbody>\n",
       "    <tr>\n",
       "      <th>-goodguygeorge</th>\n",
       "      <td>True</td>\n",
       "    </tr>\n",
       "    <tr>\n",
       "      <th>01is</th>\n",
       "      <td>True</td>\n",
       "    </tr>\n",
       "    <tr>\n",
       "      <th>0mn17h3047</th>\n",
       "      <td>True</td>\n",
       "    </tr>\n",
       "    <tr>\n",
       "      <th>414D59</th>\n",
       "      <td>True</td>\n",
       "    </tr>\n",
       "    <tr>\n",
       "      <th>AbulaShabula</th>\n",
       "      <td>True</td>\n",
       "    </tr>\n",
       "    <tr>\n",
       "      <th>Adjace-esque</th>\n",
       "      <td>True</td>\n",
       "    </tr>\n",
       "    <tr>\n",
       "      <th>Attentive_cactus</th>\n",
       "      <td>True</td>\n",
       "    </tr>\n",
       "    <tr>\n",
       "      <th>BasedOnAir</th>\n",
       "      <td>True</td>\n",
       "    </tr>\n",
       "    <tr>\n",
       "      <th>BrandEnlightened</th>\n",
       "      <td>True</td>\n",
       "    </tr>\n",
       "    <tr>\n",
       "      <th>BrownStarOfTX</th>\n",
       "      <td>True</td>\n",
       "    </tr>\n",
       "  </tbody>\n",
       "</table>\n",
       "</div>"
      ],
      "text/plain": [
       "                  subreddit\n",
       "username                   \n",
       "-goodguygeorge         True\n",
       "01is                   True\n",
       "0mn17h3047             True\n",
       "414D59                 True\n",
       "AbulaShabula           True\n",
       "Adjace-esque           True\n",
       "Attentive_cactus       True\n",
       "BasedOnAir             True\n",
       "BrandEnlightened       True\n",
       "BrownStarOfTX          True"
      ]
     },
     "execution_count": 47,
     "metadata": {},
     "output_type": "execute_result"
    }
   ],
   "source": [
    "# In the v1, the value is a *string*, representing on of pandas default aggregation functions (here, the same nunique as\n",
    "# we had been using above)\n",
    "v1 = df.groupby('username').agg({'subreddit': 'nunique'})\n",
    "\n",
    "# In v2, we're using a custom function (here a lambda function). Custom functions let us use any standard python code to \n",
    "# design our aggregation functions\n",
    "# Here we reduce the aggregation to a set (which keep only unique items), and then we take the lenght of that set - which \n",
    "# is going to be the number of unique items\n",
    "v2 = df.groupby('username').agg({'subreddit': lambda x: len(set(x))})\n",
    "\n",
    "# v1 and v2 give the same results\n",
    "(v1 == v2).head(10)"
   ]
  },
  {
   "cell_type": "markdown",
   "metadata": {},
   "source": [
    "### For each user, let's compute the number of comments per subreddit\n",
    "\n",
    "Here are the steps to be able to compute this:\n",
    "1. Get the comments and unique subreddits per username\n",
    "2. Compute the ratio\n",
    "3. Format results\n",
    "\n",
    "First step: let's get the comments and unique subreddit in one operation\n"
   ]
  },
  {
   "cell_type": "code",
   "execution_count": 36,
   "metadata": {},
   "outputs": [
    {
     "data": {
      "text/html": [
       "<div>\n",
       "<style scoped>\n",
       "    .dataframe tbody tr th:only-of-type {\n",
       "        vertical-align: middle;\n",
       "    }\n",
       "\n",
       "    .dataframe tbody tr th {\n",
       "        vertical-align: top;\n",
       "    }\n",
       "\n",
       "    .dataframe thead tr th {\n",
       "        text-align: left;\n",
       "    }\n",
       "\n",
       "    .dataframe thead tr:last-of-type th {\n",
       "        text-align: right;\n",
       "    }\n",
       "</style>\n",
       "<table border=\"1\" class=\"dataframe\">\n",
       "  <thead>\n",
       "    <tr>\n",
       "      <th></th>\n",
       "      <th colspan=\"2\" halign=\"left\">subreddit</th>\n",
       "    </tr>\n",
       "    <tr>\n",
       "      <th></th>\n",
       "      <th>comments</th>\n",
       "      <th>unique_subs</th>\n",
       "    </tr>\n",
       "    <tr>\n",
       "      <th>username</th>\n",
       "      <th></th>\n",
       "      <th></th>\n",
       "    </tr>\n",
       "  </thead>\n",
       "  <tbody>\n",
       "    <tr>\n",
       "      <th>-goodguygeorge</th>\n",
       "      <td>978</td>\n",
       "      <td>106</td>\n",
       "    </tr>\n",
       "    <tr>\n",
       "      <th>01is</th>\n",
       "      <td>353</td>\n",
       "      <td>44</td>\n",
       "    </tr>\n",
       "    <tr>\n",
       "      <th>0mn17h3047</th>\n",
       "      <td>211</td>\n",
       "      <td>25</td>\n",
       "    </tr>\n",
       "    <tr>\n",
       "      <th>414D59</th>\n",
       "      <td>117</td>\n",
       "      <td>17</td>\n",
       "    </tr>\n",
       "    <tr>\n",
       "      <th>AbulaShabula</th>\n",
       "      <td>363</td>\n",
       "      <td>33</td>\n",
       "    </tr>\n",
       "  </tbody>\n",
       "</table>\n",
       "</div>"
      ],
      "text/plain": [
       "               subreddit            \n",
       "                comments unique_subs\n",
       "username                            \n",
       "-goodguygeorge       978         106\n",
       "01is                 353          44\n",
       "0mn17h3047           211          25\n",
       "414D59               117          17\n",
       "AbulaShabula         363          33"
      ]
     },
     "execution_count": 36,
     "metadata": {},
     "output_type": "execute_result"
    }
   ],
   "source": [
    "# The syntax to apply several aggregation on the same column is slightly different:\n",
    "# we still pass a dictionnary to the `.agg` function, the key is still the column to aggregate on\n",
    "# but the value becomes a *list* of tuples\n",
    "# each tuple starting with the name of the result column, followed by the aggregation function\n",
    "df2 = df.groupby('username').agg(\n",
    "    {'subreddit': [\n",
    "                    ('comments', lambda x: len(x)),\n",
    "                    ('unique_subs', lambda x: len(set(x)))\n",
    "                ]\n",
    "    },    \n",
    ")\n",
    "df2.head()"
   ]
  },
  {
   "cell_type": "code",
   "execution_count": 37,
   "metadata": {},
   "outputs": [],
   "source": [
    "# We get rid of the MultiIndex, it's making our life more complicated\n",
    "# requires pandas 0.24 or later\n",
    "df3 = df2.droplevel(axis='columns', level=0)"
   ]
  },
  {
   "cell_type": "code",
   "execution_count": 38,
   "metadata": {},
   "outputs": [
    {
     "data": {
      "text/html": [
       "<div>\n",
       "<style scoped>\n",
       "    .dataframe tbody tr th:only-of-type {\n",
       "        vertical-align: middle;\n",
       "    }\n",
       "\n",
       "    .dataframe tbody tr th {\n",
       "        vertical-align: top;\n",
       "    }\n",
       "\n",
       "    .dataframe thead th {\n",
       "        text-align: right;\n",
       "    }\n",
       "</style>\n",
       "<table border=\"1\" class=\"dataframe\">\n",
       "  <thead>\n",
       "    <tr style=\"text-align: right;\">\n",
       "      <th></th>\n",
       "      <th>comments</th>\n",
       "      <th>unique_subs</th>\n",
       "      <th>comments_per_sub</th>\n",
       "    </tr>\n",
       "    <tr>\n",
       "      <th>username</th>\n",
       "      <th></th>\n",
       "      <th></th>\n",
       "      <th></th>\n",
       "    </tr>\n",
       "  </thead>\n",
       "  <tbody>\n",
       "    <tr>\n",
       "      <th>Esstand</th>\n",
       "      <td>1000</td>\n",
       "      <td>8</td>\n",
       "      <td>125.000000</td>\n",
       "    </tr>\n",
       "    <tr>\n",
       "      <th>refugefirstmate</th>\n",
       "      <td>1000</td>\n",
       "      <td>12</td>\n",
       "      <td>83.333333</td>\n",
       "    </tr>\n",
       "    <tr>\n",
       "      <th>CyberHarassmentPanda</th>\n",
       "      <td>1000</td>\n",
       "      <td>14</td>\n",
       "      <td>71.428571</td>\n",
       "    </tr>\n",
       "    <tr>\n",
       "      <th>PumpTrump</th>\n",
       "      <td>1000</td>\n",
       "      <td>15</td>\n",
       "      <td>66.666667</td>\n",
       "    </tr>\n",
       "    <tr>\n",
       "      <th>decipedetimes10</th>\n",
       "      <td>1000</td>\n",
       "      <td>17</td>\n",
       "      <td>58.823529</td>\n",
       "    </tr>\n",
       "  </tbody>\n",
       "</table>\n",
       "</div>"
      ],
      "text/plain": [
       "                      comments  unique_subs  comments_per_sub\n",
       "username                                                     \n",
       "Esstand                   1000            8        125.000000\n",
       "refugefirstmate           1000           12         83.333333\n",
       "CyberHarassmentPanda      1000           14         71.428571\n",
       "PumpTrump                 1000           15         66.666667\n",
       "decipedetimes10           1000           17         58.823529"
      ]
     },
     "execution_count": 38,
     "metadata": {},
     "output_type": "execute_result"
    }
   ],
   "source": [
    "df3['comments_per_sub'] = df3['comments'] / df3['unique_subs']\n",
    "df4 = df3.sort_values(by='comments_per_sub', ascending=False)\n",
    "df4.head()"
   ]
  },
  {
   "cell_type": "markdown",
   "metadata": {},
   "source": [
    "### Filtering \n",
    "\n",
    "Filtering is quite straightforward. It uses the .loc, where the general syntax is:\n",
    "\n",
    "```\n",
    "df.loc[<column-selection>  <operator>  <value>]\n",
    "```\n",
    "1. `column-selection` is typically one clolumn from a database - ex: df['col']\n",
    "2. `operator` is a standard python operator ( =, >, <, >=, != ...)\n",
    "3. `value` can be a variable, a value, or another column\n"
   ]
  },
  {
   "cell_type": "code",
   "execution_count": 67,
   "metadata": {},
   "outputs": [
    {
     "data": {
      "text/html": [
       "<div>\n",
       "<style scoped>\n",
       "    .dataframe tbody tr th:only-of-type {\n",
       "        vertical-align: middle;\n",
       "    }\n",
       "\n",
       "    .dataframe tbody tr th {\n",
       "        vertical-align: top;\n",
       "    }\n",
       "\n",
       "    .dataframe thead th {\n",
       "        text-align: right;\n",
       "    }\n",
       "</style>\n",
       "<table border=\"1\" class=\"dataframe\">\n",
       "  <thead>\n",
       "    <tr style=\"text-align: right;\">\n",
       "      <th></th>\n",
       "      <th>comments</th>\n",
       "      <th>unique_subs</th>\n",
       "      <th>comments_per_sub</th>\n",
       "    </tr>\n",
       "    <tr>\n",
       "      <th>username</th>\n",
       "      <th></th>\n",
       "      <th></th>\n",
       "      <th></th>\n",
       "    </tr>\n",
       "  </thead>\n",
       "  <tbody>\n",
       "    <tr>\n",
       "      <th>mr_fn_wonderful</th>\n",
       "      <td>999</td>\n",
       "      <td>21</td>\n",
       "      <td>47.571429</td>\n",
       "    </tr>\n",
       "    <tr>\n",
       "      <th>The_seph_i_am</th>\n",
       "      <td>986</td>\n",
       "      <td>32</td>\n",
       "      <td>30.812500</td>\n",
       "    </tr>\n",
       "    <tr>\n",
       "      <th>laserbong</th>\n",
       "      <td>804</td>\n",
       "      <td>29</td>\n",
       "      <td>27.724138</td>\n",
       "    </tr>\n",
       "    <tr>\n",
       "      <th>daze6</th>\n",
       "      <td>155</td>\n",
       "      <td>6</td>\n",
       "      <td>25.833333</td>\n",
       "    </tr>\n",
       "    <tr>\n",
       "      <th>Drums_And_Dreams</th>\n",
       "      <td>203</td>\n",
       "      <td>8</td>\n",
       "      <td>25.375000</td>\n",
       "    </tr>\n",
       "  </tbody>\n",
       "</table>\n",
       "</div>"
      ],
      "text/plain": [
       "                  comments  unique_subs  comments_per_sub\n",
       "username                                                 \n",
       "mr_fn_wonderful        999           21         47.571429\n",
       "The_seph_i_am          986           32         30.812500\n",
       "laserbong              804           29         27.724138\n",
       "daze6                  155            6         25.833333\n",
       "Drums_And_Dreams       203            8         25.375000"
      ]
     },
     "execution_count": 67,
     "metadata": {},
     "output_type": "execute_result"
    }
   ],
   "source": [
    "# A simple example, where we select all users who've made strictly less than 1000 comments\n",
    "df4.loc[df4['comments'] < 1000].head()"
   ]
  },
  {
   "cell_type": "markdown",
   "metadata": {},
   "source": [
    "### Using filtering to find active redditors\n",
    "\n",
    "Let's use filtering to identify active redditors, which we'll define as users:\n",
    "1. Not having exactly 1000 comments (this number looks artificial, let's remove it as a potential outlier)\n",
    "2. Having either :\n",
    "- Commented in at least 10 subreddits\n",
    "- At least 3 comments per subreddit\n"
   ]
  },
  {
   "cell_type": "code",
   "execution_count": 71,
   "metadata": {},
   "outputs": [
    {
     "name": "stdout",
     "output_type": "stream",
     "text": [
      "there are 120 active redditors in our sample\n"
     ]
    }
   ],
   "source": [
    "# Then we find out who are the active users in our population by using this expresion. \n",
    "# Note:\n",
    "# - the '&' signifies a lofgical AND\n",
    "# - the '|' signifies a lofgical OR\n",
    "active_redditors = df4.loc[\n",
    "                           (df4['comments'] != 1000) & \n",
    "                            # note the use of brackets to isolate the OR expression\n",
    "                           ((df4['unique_subs'] >= 10) | (df4['comments_per_sub'] >= 3))  \n",
    "                          ]\n",
    "msg = f'there are {len(active_redditors)} active redditors in our sample'\n",
    "print(msg)"
   ]
  },
  {
   "cell_type": "markdown",
   "metadata": {},
   "source": [
    "#### Exercise 2\n",
    "\n",
    "1. Find each subreddit, find how many users have the string \"trump\" (case insensitive) in their name, and how many comments they have made\n",
    "2. What are the top 10 subreddits who have the most comments made by users with \"trump\" in their name\n",
    "3. Can you adapt the code to look for any string\n",
    "For each user having the substring \"trump\" in its name"
   ]
  },
  {
   "cell_type": "code",
   "execution_count": 52,
   "metadata": {},
   "outputs": [
    {
     "data": {
      "text/plain": [
       "username\n",
       "presidenttrump_2016    1000\n",
       "TrumpsMurica           1000\n",
       "PumpTrump              1000\n",
       "Name: utc, dtype: int64"
      ]
     },
     "execution_count": 52,
     "metadata": {},
     "output_type": "execute_result"
    }
   ],
   "source": [
    "## exercise code goes here\n",
    "\n",
    "\n",
    "\n",
    "##"
   ]
  },
  {
   "cell_type": "markdown",
   "metadata": {},
   "source": [
    "#### Exercise 3\n",
    "\n",
    "1. Find the top 10 subreddits with the most users\n",
    "2. For active redditors, find the median number of comments, the 25th and 75th percentile of unique_subs\n",
    "3. Find the subreddit with the most comments in one hour\n",
    "4. Plot a timeserie of:\n",
    "    - Number of comments per day\n",
    "    - Number of comments per day, only in subreddit where at least one \"trump user\" has commented, only comments written since 01 Jan 2016\n",
    "5. [optional] Recompute the active redditors in a single expression    \n",
    "\n"
   ]
  },
  {
   "cell_type": "code",
   "execution_count": 66,
   "metadata": {},
   "outputs": [],
   "source": [
    "## exercise code goes here\n",
    "\n",
    "\n",
    "\n",
    "\n",
    "\n",
    "\n",
    "##"
   ]
  },
  {
   "cell_type": "markdown",
   "metadata": {},
   "source": [
    "# Solutions\n",
    "\n",
    "## Exercise 1\n",
    "\n",
    "1. Extract the hour of day (ie: 10 for a datetime of 2016-12-26 10:24:59) and assign it to a new column (\"hour_of_day\")\n",
    "2. Find the top 10 subreddits with the most users\n",
    "3. Find which hour of the day is one average, generating more comments"
   ]
  },
  {
   "cell_type": "code",
   "execution_count": 110,
   "metadata": {},
   "outputs": [
    {
     "data": {
      "text/html": [
       "<div>\n",
       "<style scoped>\n",
       "    .dataframe tbody tr th:only-of-type {\n",
       "        vertical-align: middle;\n",
       "    }\n",
       "\n",
       "    .dataframe tbody tr th {\n",
       "        vertical-align: top;\n",
       "    }\n",
       "\n",
       "    .dataframe thead th {\n",
       "        text-align: right;\n",
       "    }\n",
       "</style>\n",
       "<table border=\"1\" class=\"dataframe\">\n",
       "  <thead>\n",
       "    <tr style=\"text-align: right;\">\n",
       "      <th></th>\n",
       "      <th>username</th>\n",
       "      <th>subreddit</th>\n",
       "      <th>utc</th>\n",
       "      <th>date</th>\n",
       "      <th>week_of_year</th>\n",
       "      <th>trump_user</th>\n",
       "      <th>hour</th>\n",
       "      <th>hour_of_day</th>\n",
       "    </tr>\n",
       "  </thead>\n",
       "  <tbody>\n",
       "    <tr>\n",
       "      <th>0</th>\n",
       "      <td>kabanossi</td>\n",
       "      <td>photoshopbattles</td>\n",
       "      <td>2016-12-26 10:24:59</td>\n",
       "      <td>2016-12-26</td>\n",
       "      <td>52</td>\n",
       "      <td>False</td>\n",
       "      <td>10</td>\n",
       "      <td>10</td>\n",
       "    </tr>\n",
       "    <tr>\n",
       "      <th>1</th>\n",
       "      <td>kabanossi</td>\n",
       "      <td>GetMotivated</td>\n",
       "      <td>2016-12-26 10:23:14</td>\n",
       "      <td>2016-12-26</td>\n",
       "      <td>52</td>\n",
       "      <td>False</td>\n",
       "      <td>10</td>\n",
       "      <td>10</td>\n",
       "    </tr>\n",
       "    <tr>\n",
       "      <th>2</th>\n",
       "      <td>kabanossi</td>\n",
       "      <td>vmware</td>\n",
       "      <td>2016-12-26 10:21:16</td>\n",
       "      <td>2016-12-26</td>\n",
       "      <td>52</td>\n",
       "      <td>False</td>\n",
       "      <td>10</td>\n",
       "      <td>10</td>\n",
       "    </tr>\n",
       "    <tr>\n",
       "      <th>3</th>\n",
       "      <td>kabanossi</td>\n",
       "      <td>carporn</td>\n",
       "      <td>2016-12-26 10:20:18</td>\n",
       "      <td>2016-12-26</td>\n",
       "      <td>52</td>\n",
       "      <td>False</td>\n",
       "      <td>10</td>\n",
       "      <td>10</td>\n",
       "    </tr>\n",
       "    <tr>\n",
       "      <th>4</th>\n",
       "      <td>kabanossi</td>\n",
       "      <td>DIY</td>\n",
       "      <td>2016-12-26 10:17:59</td>\n",
       "      <td>2016-12-26</td>\n",
       "      <td>52</td>\n",
       "      <td>False</td>\n",
       "      <td>10</td>\n",
       "      <td>10</td>\n",
       "    </tr>\n",
       "  </tbody>\n",
       "</table>\n",
       "</div>"
      ],
      "text/plain": [
       "    username         subreddit                 utc        date  week_of_year  \\\n",
       "0  kabanossi  photoshopbattles 2016-12-26 10:24:59  2016-12-26            52   \n",
       "1  kabanossi      GetMotivated 2016-12-26 10:23:14  2016-12-26            52   \n",
       "2  kabanossi            vmware 2016-12-26 10:21:16  2016-12-26            52   \n",
       "3  kabanossi           carporn 2016-12-26 10:20:18  2016-12-26            52   \n",
       "4  kabanossi               DIY 2016-12-26 10:17:59  2016-12-26            52   \n",
       "\n",
       "   trump_user  hour  hour_of_day  \n",
       "0       False    10           10  \n",
       "1       False    10           10  \n",
       "2       False    10           10  \n",
       "3       False    10           10  \n",
       "4       False    10           10  "
      ]
     },
     "execution_count": 110,
     "metadata": {},
     "output_type": "execute_result"
    }
   ],
   "source": [
    "# 1.1: extract the hour of day\n",
    "def get_hour_of_day(elem):\n",
    "    return elem.hour\n",
    "                    \n",
    "df['hour_of_day'] = df['utc'].apply(get_hour_of_day)\n",
    "df.head()"
   ]
  },
  {
   "cell_type": "code",
   "execution_count": 109,
   "metadata": {},
   "outputs": [
    {
     "data": {
      "text/html": [
       "<div>\n",
       "<style scoped>\n",
       "    .dataframe tbody tr th:only-of-type {\n",
       "        vertical-align: middle;\n",
       "    }\n",
       "\n",
       "    .dataframe tbody tr th {\n",
       "        vertical-align: top;\n",
       "    }\n",
       "\n",
       "    .dataframe thead th {\n",
       "        text-align: right;\n",
       "    }\n",
       "</style>\n",
       "<table border=\"1\" class=\"dataframe\">\n",
       "  <thead>\n",
       "    <tr style=\"text-align: right;\">\n",
       "      <th></th>\n",
       "      <th>username</th>\n",
       "    </tr>\n",
       "    <tr>\n",
       "      <th>subreddit</th>\n",
       "      <th></th>\n",
       "    </tr>\n",
       "  </thead>\n",
       "  <tbody>\n",
       "    <tr>\n",
       "      <th>AskReddit</th>\n",
       "      <td>141</td>\n",
       "    </tr>\n",
       "    <tr>\n",
       "      <th>news</th>\n",
       "      <td>127</td>\n",
       "    </tr>\n",
       "    <tr>\n",
       "      <th>pics</th>\n",
       "      <td>124</td>\n",
       "    </tr>\n",
       "    <tr>\n",
       "      <th>funny</th>\n",
       "      <td>122</td>\n",
       "    </tr>\n",
       "    <tr>\n",
       "      <th>todayilearned</th>\n",
       "      <td>122</td>\n",
       "    </tr>\n",
       "    <tr>\n",
       "      <th>worldnews</th>\n",
       "      <td>116</td>\n",
       "    </tr>\n",
       "    <tr>\n",
       "      <th>videos</th>\n",
       "      <td>108</td>\n",
       "    </tr>\n",
       "    <tr>\n",
       "      <th>gifs</th>\n",
       "      <td>105</td>\n",
       "    </tr>\n",
       "    <tr>\n",
       "      <th>GetMotivated</th>\n",
       "      <td>100</td>\n",
       "    </tr>\n",
       "    <tr>\n",
       "      <th>Showerthoughts</th>\n",
       "      <td>99</td>\n",
       "    </tr>\n",
       "  </tbody>\n",
       "</table>\n",
       "</div>"
      ],
      "text/plain": [
       "                username\n",
       "subreddit               \n",
       "AskReddit            141\n",
       "news                 127\n",
       "pics                 124\n",
       "funny                122\n",
       "todayilearned        122\n",
       "worldnews            116\n",
       "videos               108\n",
       "gifs                 105\n",
       "GetMotivated         100\n",
       "Showerthoughts        99"
      ]
     },
     "execution_count": 109,
     "metadata": {},
     "output_type": "execute_result"
    }
   ],
   "source": [
    "# 1.2: find the top 10 subreddits with the most users\n",
    "df.groupby('subreddit').agg({'username': 'nunique'}).sort_values(by='username', ascending=False).head(10)"
   ]
  },
  {
   "cell_type": "code",
   "execution_count": 119,
   "metadata": {},
   "outputs": [
    {
     "data": {
      "text/html": [
       "<div>\n",
       "<style scoped>\n",
       "    .dataframe tbody tr th:only-of-type {\n",
       "        vertical-align: middle;\n",
       "    }\n",
       "\n",
       "    .dataframe tbody tr th {\n",
       "        vertical-align: top;\n",
       "    }\n",
       "\n",
       "    .dataframe thead th {\n",
       "        text-align: right;\n",
       "    }\n",
       "</style>\n",
       "<table border=\"1\" class=\"dataframe\">\n",
       "  <thead>\n",
       "    <tr style=\"text-align: right;\">\n",
       "      <th></th>\n",
       "      <th>subreddit</th>\n",
       "    </tr>\n",
       "    <tr>\n",
       "      <th>hour_of_day</th>\n",
       "      <th></th>\n",
       "    </tr>\n",
       "  </thead>\n",
       "  <tbody>\n",
       "    <tr>\n",
       "      <th>15</th>\n",
       "      <td>5855</td>\n",
       "    </tr>\n",
       "    <tr>\n",
       "      <th>14</th>\n",
       "      <td>5707</td>\n",
       "    </tr>\n",
       "    <tr>\n",
       "      <th>16</th>\n",
       "      <td>5684</td>\n",
       "    </tr>\n",
       "    <tr>\n",
       "      <th>17</th>\n",
       "      <td>5505</td>\n",
       "    </tr>\n",
       "    <tr>\n",
       "      <th>18</th>\n",
       "      <td>4994</td>\n",
       "    </tr>\n",
       "  </tbody>\n",
       "</table>\n",
       "</div>"
      ],
      "text/plain": [
       "             subreddit\n",
       "hour_of_day           \n",
       "15                5855\n",
       "14                5707\n",
       "16                5684\n",
       "17                5505\n",
       "18                4994"
      ]
     },
     "execution_count": 119,
     "metadata": {},
     "output_type": "execute_result"
    }
   ],
   "source": [
    "# 3. Find which hour of the day is one average, generating more comments\n",
    "df.groupby('hour_of_day').agg({'subreddit': 'count'}).sort_values(by='subreddit', ascending=False).head()"
   ]
  },
  {
   "cell_type": "markdown",
   "metadata": {},
   "source": [
    "## Exercise 2\n",
    "\n",
    "### Solution 2.A: using known syntax"
   ]
  },
  {
   "cell_type": "code",
   "execution_count": 91,
   "metadata": {},
   "outputs": [
    {
     "data": {
      "text/html": [
       "<div>\n",
       "<style scoped>\n",
       "    .dataframe tbody tr th:only-of-type {\n",
       "        vertical-align: middle;\n",
       "    }\n",
       "\n",
       "    .dataframe tbody tr th {\n",
       "        vertical-align: top;\n",
       "    }\n",
       "\n",
       "    .dataframe thead tr th {\n",
       "        text-align: left;\n",
       "    }\n",
       "\n",
       "    .dataframe thead tr:last-of-type th {\n",
       "        text-align: right;\n",
       "    }\n",
       "</style>\n",
       "<table border=\"1\" class=\"dataframe\">\n",
       "  <thead>\n",
       "    <tr>\n",
       "      <th></th>\n",
       "      <th colspan=\"2\" halign=\"left\">username</th>\n",
       "    </tr>\n",
       "    <tr>\n",
       "      <th></th>\n",
       "      <th>nb_comments_by_trump</th>\n",
       "      <th>nb_user_w_trump</th>\n",
       "    </tr>\n",
       "    <tr>\n",
       "      <th>subreddit</th>\n",
       "      <th></th>\n",
       "      <th></th>\n",
       "    </tr>\n",
       "  </thead>\n",
       "  <tbody>\n",
       "    <tr>\n",
       "      <th>2meirl42meirl4meirl</th>\n",
       "      <td>1</td>\n",
       "      <td>1</td>\n",
       "    </tr>\n",
       "    <tr>\n",
       "      <th>4chan</th>\n",
       "      <td>11</td>\n",
       "      <td>1</td>\n",
       "    </tr>\n",
       "    <tr>\n",
       "      <th>AdviceAnimals</th>\n",
       "      <td>16</td>\n",
       "      <td>1</td>\n",
       "    </tr>\n",
       "    <tr>\n",
       "      <th>AmISexy</th>\n",
       "      <td>1</td>\n",
       "      <td>1</td>\n",
       "    </tr>\n",
       "    <tr>\n",
       "      <th>Art</th>\n",
       "      <td>5</td>\n",
       "      <td>1</td>\n",
       "    </tr>\n",
       "  </tbody>\n",
       "</table>\n",
       "</div>"
      ],
      "text/plain": [
       "                                username                \n",
       "                    nb_comments_by_trump nb_user_w_trump\n",
       "subreddit                                               \n",
       "2meirl42meirl4meirl                    1               1\n",
       "4chan                                 11               1\n",
       "AdviceAnimals                         16               1\n",
       "AmISexy                                1               1\n",
       "Art                                    5               1"
      ]
     },
     "execution_count": 91,
     "metadata": {},
     "output_type": "execute_result"
    }
   ],
   "source": [
    "def get_token(elem, token):\n",
    "    return token.lower() in elem.lower()\n",
    "\n",
    "# Create a dataframe containing only users with \"trump\" in their name\n",
    "df['trump_user'] = df['username'].apply(get_token, args=['trump'])\n",
    "df_trump = df.loc[df['trump_user'] == True]\n",
    "df_trump.head()"
   ]
  },
  {
   "cell_type": "code",
   "execution_count": 96,
   "metadata": {},
   "outputs": [
    {
     "data": {
      "text/html": [
       "<div>\n",
       "<style scoped>\n",
       "    .dataframe tbody tr th:only-of-type {\n",
       "        vertical-align: middle;\n",
       "    }\n",
       "\n",
       "    .dataframe tbody tr th {\n",
       "        vertical-align: top;\n",
       "    }\n",
       "\n",
       "    .dataframe thead tr th {\n",
       "        text-align: left;\n",
       "    }\n",
       "\n",
       "    .dataframe thead tr:last-of-type th {\n",
       "        text-align: right;\n",
       "    }\n",
       "</style>\n",
       "<table border=\"1\" class=\"dataframe\">\n",
       "  <thead>\n",
       "    <tr>\n",
       "      <th></th>\n",
       "      <th colspan=\"2\" halign=\"left\">username</th>\n",
       "    </tr>\n",
       "    <tr>\n",
       "      <th></th>\n",
       "      <th>nb_comments_by_trump</th>\n",
       "      <th>nb_user_w_trump</th>\n",
       "    </tr>\n",
       "    <tr>\n",
       "      <th>subreddit</th>\n",
       "      <th></th>\n",
       "      <th></th>\n",
       "    </tr>\n",
       "  </thead>\n",
       "  <tbody>\n",
       "    <tr>\n",
       "      <th>2meirl42meirl4meirl</th>\n",
       "      <td>1</td>\n",
       "      <td>1</td>\n",
       "    </tr>\n",
       "    <tr>\n",
       "      <th>4chan</th>\n",
       "      <td>11</td>\n",
       "      <td>1</td>\n",
       "    </tr>\n",
       "    <tr>\n",
       "      <th>AdviceAnimals</th>\n",
       "      <td>16</td>\n",
       "      <td>1</td>\n",
       "    </tr>\n",
       "    <tr>\n",
       "      <th>AmISexy</th>\n",
       "      <td>1</td>\n",
       "      <td>1</td>\n",
       "    </tr>\n",
       "    <tr>\n",
       "      <th>Art</th>\n",
       "      <td>5</td>\n",
       "      <td>1</td>\n",
       "    </tr>\n",
       "  </tbody>\n",
       "</table>\n",
       "</div>"
      ],
      "text/plain": [
       "                                username                \n",
       "                    nb_comments_by_trump nb_user_w_trump\n",
       "subreddit                                               \n",
       "2meirl42meirl4meirl                    1               1\n",
       "4chan                                 11               1\n",
       "AdviceAnimals                         16               1\n",
       "AmISexy                                1               1\n",
       "Art                                    5               1"
      ]
     },
     "execution_count": 96,
     "metadata": {},
     "output_type": "execute_result"
    }
   ],
   "source": [
    "# creating the groupbys\n",
    "trump_agg = (df_trump.groupby('subreddit')\n",
    "         .agg({'username': [\n",
    "             ('nb_comments_by_trump', 'count'),\n",
    "             ('nb_user_w_trump', 'nunique')\n",
    "         ]})\n",
    ")\n",
    "trump_agg.head()"
   ]
  },
  {
   "cell_type": "code",
   "execution_count": 95,
   "metadata": {},
   "outputs": [
    {
     "data": {
      "text/html": [
       "<div>\n",
       "<style scoped>\n",
       "    .dataframe tbody tr th:only-of-type {\n",
       "        vertical-align: middle;\n",
       "    }\n",
       "\n",
       "    .dataframe tbody tr th {\n",
       "        vertical-align: top;\n",
       "    }\n",
       "\n",
       "    .dataframe thead th {\n",
       "        text-align: right;\n",
       "    }\n",
       "</style>\n",
       "<table border=\"1\" class=\"dataframe\">\n",
       "  <thead>\n",
       "    <tr style=\"text-align: right;\">\n",
       "      <th></th>\n",
       "      <th>nb_comments_by_trump</th>\n",
       "      <th>nb_user_w_trump</th>\n",
       "    </tr>\n",
       "    <tr>\n",
       "      <th>subreddit</th>\n",
       "      <th></th>\n",
       "      <th></th>\n",
       "    </tr>\n",
       "  </thead>\n",
       "  <tbody>\n",
       "    <tr>\n",
       "      <th>The_Donald</th>\n",
       "      <td>935</td>\n",
       "      <td>2</td>\n",
       "    </tr>\n",
       "    <tr>\n",
       "      <th>politics</th>\n",
       "      <td>750</td>\n",
       "      <td>3</td>\n",
       "    </tr>\n",
       "    <tr>\n",
       "      <th>PoliticalDiscussion</th>\n",
       "      <td>317</td>\n",
       "      <td>2</td>\n",
       "    </tr>\n",
       "    <tr>\n",
       "      <th>news</th>\n",
       "      <td>174</td>\n",
       "      <td>3</td>\n",
       "    </tr>\n",
       "    <tr>\n",
       "      <th>worldnews</th>\n",
       "      <td>91</td>\n",
       "      <td>3</td>\n",
       "    </tr>\n",
       "    <tr>\n",
       "      <th>technology</th>\n",
       "      <td>73</td>\n",
       "      <td>1</td>\n",
       "    </tr>\n",
       "    <tr>\n",
       "      <th>environment</th>\n",
       "      <td>66</td>\n",
       "      <td>2</td>\n",
       "    </tr>\n",
       "    <tr>\n",
       "      <th>videos</th>\n",
       "      <td>56</td>\n",
       "      <td>2</td>\n",
       "    </tr>\n",
       "    <tr>\n",
       "      <th>houston</th>\n",
       "      <td>28</td>\n",
       "      <td>1</td>\n",
       "    </tr>\n",
       "    <tr>\n",
       "      <th>Futurology</th>\n",
       "      <td>27</td>\n",
       "      <td>3</td>\n",
       "    </tr>\n",
       "  </tbody>\n",
       "</table>\n",
       "</div>"
      ],
      "text/plain": [
       "                     nb_comments_by_trump  nb_user_w_trump\n",
       "subreddit                                                 \n",
       "The_Donald                            935                2\n",
       "politics                              750                3\n",
       "PoliticalDiscussion                   317                2\n",
       "news                                  174                3\n",
       "worldnews                              91                3\n",
       "technology                             73                1\n",
       "environment                            66                2\n",
       "videos                                 56                2\n",
       "houston                                28                1\n",
       "Futurology                             27                3"
      ]
     },
     "execution_count": 95,
     "metadata": {},
     "output_type": "execute_result"
    }
   ],
   "source": [
    "# cleaning and sorting\n",
    "final = trump_agg.droplevel(axis='columns', level=0)\n",
    "final.sort_values(by=f'nb_comments_by_trump', ascending=False).head(10)"
   ]
  },
  {
   "cell_type": "markdown",
   "metadata": {},
   "source": [
    "### Solution 2.B : a cleaner way"
   ]
  },
  {
   "cell_type": "code",
   "execution_count": 98,
   "metadata": {},
   "outputs": [
    {
     "data": {
      "text/html": [
       "<div>\n",
       "<style scoped>\n",
       "    .dataframe tbody tr th:only-of-type {\n",
       "        vertical-align: middle;\n",
       "    }\n",
       "\n",
       "    .dataframe tbody tr th {\n",
       "        vertical-align: top;\n",
       "    }\n",
       "\n",
       "    .dataframe thead th {\n",
       "        text-align: right;\n",
       "    }\n",
       "</style>\n",
       "<table border=\"1\" class=\"dataframe\">\n",
       "  <thead>\n",
       "    <tr style=\"text-align: right;\">\n",
       "      <th></th>\n",
       "      <th>nb_comments_by_trump</th>\n",
       "      <th>nb_users_w_trump</th>\n",
       "    </tr>\n",
       "    <tr>\n",
       "      <th>subreddit</th>\n",
       "      <th></th>\n",
       "      <th></th>\n",
       "    </tr>\n",
       "  </thead>\n",
       "  <tbody>\n",
       "    <tr>\n",
       "      <th>The_Donald</th>\n",
       "      <td>935</td>\n",
       "      <td>2</td>\n",
       "    </tr>\n",
       "    <tr>\n",
       "      <th>politics</th>\n",
       "      <td>750</td>\n",
       "      <td>3</td>\n",
       "    </tr>\n",
       "    <tr>\n",
       "      <th>PoliticalDiscussion</th>\n",
       "      <td>317</td>\n",
       "      <td>2</td>\n",
       "    </tr>\n",
       "    <tr>\n",
       "      <th>news</th>\n",
       "      <td>174</td>\n",
       "      <td>3</td>\n",
       "    </tr>\n",
       "    <tr>\n",
       "      <th>worldnews</th>\n",
       "      <td>91</td>\n",
       "      <td>3</td>\n",
       "    </tr>\n",
       "    <tr>\n",
       "      <th>technology</th>\n",
       "      <td>73</td>\n",
       "      <td>1</td>\n",
       "    </tr>\n",
       "    <tr>\n",
       "      <th>environment</th>\n",
       "      <td>66</td>\n",
       "      <td>2</td>\n",
       "    </tr>\n",
       "    <tr>\n",
       "      <th>videos</th>\n",
       "      <td>56</td>\n",
       "      <td>2</td>\n",
       "    </tr>\n",
       "    <tr>\n",
       "      <th>houston</th>\n",
       "      <td>28</td>\n",
       "      <td>1</td>\n",
       "    </tr>\n",
       "    <tr>\n",
       "      <th>Futurology</th>\n",
       "      <td>27</td>\n",
       "      <td>3</td>\n",
       "    </tr>\n",
       "  </tbody>\n",
       "</table>\n",
       "</div>"
      ],
      "text/plain": [
       "                     nb_comments_by_trump  nb_users_w_trump\n",
       "subreddit                                                  \n",
       "The_Donald                            935                 2\n",
       "politics                              750                 3\n",
       "PoliticalDiscussion                   317                 2\n",
       "news                                  174                 3\n",
       "worldnews                              91                 3\n",
       "technology                             73                 1\n",
       "environment                            66                 2\n",
       "videos                                 56                 2\n",
       "houston                                28                 1\n",
       "Futurology                             27                 3"
      ]
     },
     "execution_count": 98,
     "metadata": {},
     "output_type": "execute_result"
    }
   ],
   "source": [
    "token = 'trump'\n",
    "mask = df['username'].str.contains(token, case=False)\n",
    "(df.loc[mask]\n",
    "    .groupby('subreddit')\n",
    "    .agg({'username': [\n",
    "            (f'nb_comments_by_{token}', 'count'),\n",
    "            (f'nb_users_w_{token}', 'nunique'),\n",
    "    ]\n",
    "         })\n",
    "     .droplevel(axis='columns', level=0)\n",
    "    .sort_values(by=f'nb_comments_by_{token}', ascending=False)\n",
    "    .head(10)\n",
    ")"
   ]
  },
  {
   "cell_type": "markdown",
   "metadata": {},
   "source": [
    "## Exercise 3\n",
    "\n",
    "1. For active redditors, find the median number of comments, the 25th and 75th percentile of unique_subs\n",
    "2. Find the subreddit with the most comments in one hour\n",
    "3. [harder but useful] Recompute the active redditors in a single expression\n"
   ]
  },
  {
   "cell_type": "code",
   "execution_count": 127,
   "metadata": {},
   "outputs": [
    {
     "name": "stdout",
     "output_type": "stream",
     "text": [
      "Here are the stats on active reddits:\n",
      "A. Comments per subredit:\n",
      "- mediam: 358.0\n",
      "B. Number of subreddits they subscribe to:\n",
      "- p25: 26.0\n",
      "- p75: 64.75\n",
      "\n"
     ]
    }
   ],
   "source": [
    "# 1. For active redditors, find the median number of comments, the 25th and 75th percentile of unique_subs\n",
    "median_comments = active_redditors['comments'].median()\n",
    "p25_subs = np.percentile(active_redditors['unique_subs'], 25)\n",
    "p75_subs = np.percentile(active_redditors['unique_subs'], 75)\n",
    "\n",
    "msg = f\"\"\"Here are the stats on active reddits:\n",
    "A. Comments per subredit:\n",
    "- mediam: {median_comments}\n",
    "B. Number of subreddits they subscribe to:\n",
    "- p25: {p25_comments}\n",
    "- p75: {p75_comments}\n",
    "\"\"\"\n",
    "\n",
    "print(msg)"
   ]
  },
  {
   "cell_type": "code",
   "execution_count": 135,
   "metadata": {},
   "outputs": [
    {
     "data": {
      "text/plain": [
       "per_hour       subreddit\n",
       "2016-12-26_15  news         108\n",
       "2016-04-16_20  nba           59\n",
       "2016-04-19_3   nba           47\n",
       "2016-03-20_1   linux         41\n",
       "2016-11-30_1   FlashTV       40\n",
       "Name: username, dtype: int64"
      ]
     },
     "execution_count": 135,
     "metadata": {},
     "output_type": "execute_result"
    }
   ],
   "source": [
    "# 2. Find the subreddit with the most comments in one hour\n",
    "def per_hour(elem: dt.datetime):\n",
    "    return f'{elem.date()}_{elem.hour}'\n",
    "\n",
    "df['per_hour'] = df['utc'].apply(per_hour)\n",
    "df.groupby(['per_hour', 'subreddit'])['username'].count().sort_values(ascending=False).head()"
   ]
  },
  {
   "cell_type": "code",
   "execution_count": 136,
   "metadata": {},
   "outputs": [
    {
     "data": {
      "text/html": [
       "<div>\n",
       "<style scoped>\n",
       "    .dataframe tbody tr th:only-of-type {\n",
       "        vertical-align: middle;\n",
       "    }\n",
       "\n",
       "    .dataframe tbody tr th {\n",
       "        vertical-align: top;\n",
       "    }\n",
       "\n",
       "    .dataframe thead th {\n",
       "        text-align: right;\n",
       "    }\n",
       "</style>\n",
       "<table border=\"1\" class=\"dataframe\">\n",
       "  <thead>\n",
       "    <tr style=\"text-align: right;\">\n",
       "      <th></th>\n",
       "      <th>comments</th>\n",
       "      <th>unique_subs</th>\n",
       "      <th>comments_per_sub</th>\n",
       "    </tr>\n",
       "    <tr>\n",
       "      <th>username</th>\n",
       "      <th></th>\n",
       "      <th></th>\n",
       "      <th></th>\n",
       "    </tr>\n",
       "  </thead>\n",
       "  <tbody>\n",
       "    <tr>\n",
       "      <th>mr_fn_wonderful</th>\n",
       "      <td>999</td>\n",
       "      <td>21</td>\n",
       "      <td>47.571429</td>\n",
       "    </tr>\n",
       "    <tr>\n",
       "      <th>The_seph_i_am</th>\n",
       "      <td>986</td>\n",
       "      <td>32</td>\n",
       "      <td>30.812500</td>\n",
       "    </tr>\n",
       "    <tr>\n",
       "      <th>laserbong</th>\n",
       "      <td>804</td>\n",
       "      <td>29</td>\n",
       "      <td>27.724138</td>\n",
       "    </tr>\n",
       "    <tr>\n",
       "      <th>BrandEnlightened</th>\n",
       "      <td>426</td>\n",
       "      <td>20</td>\n",
       "      <td>21.300000</td>\n",
       "    </tr>\n",
       "    <tr>\n",
       "      <th>QuatreBarton</th>\n",
       "      <td>336</td>\n",
       "      <td>16</td>\n",
       "      <td>21.000000</td>\n",
       "    </tr>\n",
       "  </tbody>\n",
       "</table>\n",
       "</div>"
      ],
      "text/plain": [
       "                  comments  unique_subs  comments_per_sub\n",
       "username                                                 \n",
       "mr_fn_wonderful        999           21         47.571429\n",
       "The_seph_i_am          986           32         30.812500\n",
       "laserbong              804           29         27.724138\n",
       "BrandEnlightened       426           20         21.300000\n",
       "QuatreBarton           336           16         21.000000"
      ]
     },
     "execution_count": 136,
     "metadata": {},
     "output_type": "execute_result"
    }
   ],
   "source": [
    "# 3. [harder but useful] Recompute the active redditors in a single expression\n",
    "\n",
    "# We use \"method chaining\" to avoid intermediate dataframes\n",
    "# Advantages:\n",
    "# 1. Avoids mistakes (easy to make errors when you reach df42)\n",
    "# 2. You can read all the logic step by step\n",
    "\n",
    "active_redditors = \\\n",
    "(df.groupby('username')\n",
    "   .agg({'subreddit': [('comments', 'count'),\n",
    "                       ('unique_subs', lambda x: len(set(x))),\n",
    "                      ]\n",
    "        })\n",
    "    .droplevel(axis='columns', level=0)\n",
    "    .assign(comments_per_sub=lambda x: x['comments'] / x['unique_subs'])\n",
    "    .sort_values(by='comments_per_sub', ascending=False)\n",
    "    .query('comments < 1000')\n",
    "    .query('unique_subs >= 10')\n",
    "    .query('comments_per_sub >= 3') \n",
    ")\n",
    "active_redditors.head()"
   ]
  }
 ],
 "metadata": {
  "celltoolbar": "Slideshow",
  "kernelspec": {
   "display_name": "Python 3",
   "language": "python",
   "name": "python3"
  },
  "language_info": {
   "codemirror_mode": {
    "name": "ipython",
    "version": 3
   },
   "file_extension": ".py",
   "mimetype": "text/x-python",
   "name": "python",
   "nbconvert_exporter": "python",
   "pygments_lexer": "ipython3",
   "version": "3.7.3"
  }
 },
 "nbformat": 4,
 "nbformat_minor": 4
}
